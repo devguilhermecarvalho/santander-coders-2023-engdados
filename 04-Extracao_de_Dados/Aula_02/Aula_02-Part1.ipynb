{
 "cells": [
  {
   "cell_type": "code",
   "execution_count": null,
   "metadata": {},
   "outputs": [],
   "source": [
    "import requests\n",
    "import json"
   ]
  },
  {
   "cell_type": "code",
   "execution_count": null,
   "metadata": {},
   "outputs": [],
   "source": [
    "# Fazendo uma requisição\n",
    "\n",
    "response = requests.get(url=\"https://fakestoreapi.com/products\")\n",
    "\n",
    "print(f'Status code: {response.status_code}, Carregamento: {response.elapsed}, Encoding: {response.encoding}')\n",
    "\n",
    "data = response.json()\n",
    "# 'data' contém os dados da resposta em formato de dicionário ou lista."
   ]
  },
  {
   "cell_type": "markdown",
   "metadata": {},
   "source": [
    "### Tipos de Resposta de uma API"
   ]
  },
  {
   "cell_type": "code",
   "execution_count": null,
   "metadata": {},
   "outputs": [],
   "source": [
    "text_content = response.text\n",
    "print(f'O tipo da resposta é: {type(text_content)}')\n",
    "\n",
    "json_content_parsed = json.loads(text_content)\n",
    "print(f'O tipo da resposta após a conversão utilizando o json.loads é: {type(json_content_parsed)}')\n",
    "\n",
    "json_content = response.json()\n",
    "print(f\"O tipo de dado utilizando a função json é {type(json_content)}\")"
   ]
  },
  {
   "cell_type": "code",
   "execution_count": null,
   "metadata": {},
   "outputs": [],
   "source": [
    "# Alguns Métodos de acesso e respota em uma API\n",
    "\n",
    "response.json()\n",
    "# Converte a resposta em um objeto Python, geralmente um dicionário ou lista, a partir de dados JSON.\n",
    "\n",
    "response.status_code\n",
    "# Esse método retorna o código de status HTTP da resposta, que indica o resultado da solicitação (por exemplo, 200 para \"OK\", 404 para \"Não encontrado\", 500 para \"Erro interno do servidor\", etc.).\n",
    "\n",
    "response.ok\n",
    "# Este atributo é um valor booleano que indica se a solicitação foi bem-sucedida (código de status na faixa 200-299)\n",
    "\n",
    "response.headers\n",
    "# Esse atributo retorna os cabeçalhos HTTP da resposta, que podem conter informações adicionais sobre a resposta, como tipo de conteúdo, data de modificação, cookies, etc.\n",
    "\n",
    "response.url\n",
    "# Esse atributo retorna a URL da qual a resposta foi obtida, o que pode ser útil se a API redirecionou a solicitação.\n",
    "\n",
    "response.raise_for_status()\n",
    "# Este método verifica o código de status da resposta e levanta uma exceção se a resposta indicar um erro HTTP. Isso é útil para lidar com erros de solicitação de forma eficaz.\n",
    "\n",
    "response.elapsed\n",
    "# Este atributo retorna o tempo decorrido para que a solicitação seja atendida, o que pode ser útil para fins de monitoramento e desempenho.\n",
    "\n",
    "response.history\n",
    "# Se a API redirecionou a solicitação, este atributo pode conter uma lista de respostas de redirecionamento.\n",
    "\n",
    "response.cookies\n",
    "# Este atributo fornece acesso aos cookies definidos na resposta, o que é importante quando você está lidando com autenticação e sessões.\n",
    "\n",
    "response.encoding\n",
    "# Este atributo indica a codificação de caracteres usada na resposta, o que é útil para decodificar corretamente o conteúdo de texto.\n",
    "\n",
    "response.iter_content()\n",
    "# Este método permite iterar sobre o conteúdo binário da resposta em pedaços, o que pode ser útil para processar grandes volumes de dados de forma eficiente.\n",
    "\n",
    "response.iter_lines()\n",
    "# Este método permite iterar sobre o conteúdo de texto da resposta linha por linha.\n",
    "\n",
    "response.content  \n",
    "# Retorna os dados binários da resposta.\n",
    "\n",
    "response.request\n",
    "# Este atributo fornece informações sobre a solicitação original, como o método, a URL e os cabeçalhos usados.\n",
    "\n",
    "response.text()\n",
    "# Retorna o conteúdo de texto da resposta."
   ]
  },
  {
   "cell_type": "markdown",
   "metadata": {},
   "source": [
    "### Gerenciando uma Requisição de uma API"
   ]
  },
  {
   "cell_type": "code",
   "execution_count": 39,
   "metadata": {},
   "outputs": [],
   "source": [
    "response = gerencia_requisicao(\n",
    "    url=\"https://fakestoreapi.com\",\n",
    "    endpoint=\"products\",\n",
    "    max_retries=3\n",
    ")"
   ]
  },
  {
   "cell_type": "code",
   "execution_count": 40,
   "metadata": {},
   "outputs": [],
   "source": [
    "def gerencia_requisicao(url: str, endpoint: str, current_retry: int=0, max_retries: int=0):\n",
    "    \n",
    "    urls = [\n",
    "        \"https://fakestoreapi.com/productsa\", \n",
    "        \"https://fakestoreapi.com/productsb\", \n",
    "        \"https://fakestoreapi.com/products\"\n",
    "    ]\n",
    "\n",
    "    response = requests.get(url=urls[current_retry])\n",
    "\n",
    "    if (response.status_code >= 400 and response.status_code <= 499) or (response.status_code >= 500 and response.status_code <= 599):\n",
    "        if current_retry < max_retries:\n",
    "            return gerencia_requisicao(\n",
    "                url=url,\n",
    "                endpoint=endpoint,\n",
    "                current_retry=current_retry+1,\n",
    "                max_retries=max_retries\n",
    "            )\n",
    "        else:\n",
    "            return 'error', {\n",
    "                'code': response.status_code,\n",
    "                'messagem': response.text\n",
    "            }\n",
    "        \n",
    "    return 'success', response.text\n",
    "    "
   ]
  }
 ],
 "metadata": {
  "kernelspec": {
   "display_name": "Python 3",
   "language": "python",
   "name": "python3"
  },
  "language_info": {
   "codemirror_mode": {
    "name": "ipython",
    "version": 3
   },
   "file_extension": ".py",
   "mimetype": "text/x-python",
   "name": "python",
   "nbconvert_exporter": "python",
   "pygments_lexer": "ipython3",
   "version": "3.11.5"
  },
  "orig_nbformat": 4
 },
 "nbformat": 4,
 "nbformat_minor": 2
}
