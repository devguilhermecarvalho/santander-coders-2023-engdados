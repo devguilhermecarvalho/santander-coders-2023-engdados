{
 "cells": [
  {
   "cell_type": "code",
   "execution_count": 1,
   "metadata": {},
   "outputs": [],
   "source": [
    "import requests\n",
    "import pandas as pd\n",
    "import numpy as np"
   ]
  },
  {
   "cell_type": "markdown",
   "metadata": {},
   "source": [
    "### Fluxo de Retry\n",
    "- Implementação do fluxo de re-autenticação"
   ]
  },
  {
   "cell_type": "code",
   "execution_count": null,
   "metadata": {},
   "outputs": [],
   "source": [
    "def constroi_authentication_headers():\n",
    "    acess_token = autenticar(login='kmichelle', senha='@alelplR')\n",
    "    \n",
    "    return{\n",
    "        'Authorization': 'Bearer',\n",
    "        'Content-Type': 'application/json'\n",
    "    }"
   ]
  },
  {
   "cell_type": "code",
   "execution_count": null,
   "metadata": {},
   "outputs": [],
   "source": []
  },
  {
   "cell_type": "code",
   "execution_count": null,
   "metadata": {},
   "outputs": [],
   "source": [
    "def gerencia_requisicao_authenticada(url: str, authorizantion_header: dict, max_retries: int, current_retry: int =0):\n",
    "    \n",
    "    response = requests.get(\n",
    "        url=url,\n",
    "        headers=authorizantion_header\n",
    "    )\n",
    "\n",
    "    try:\n",
    "        if response.status_code == 401:\n",
    "            if current_retry < max_retries:\n",
    "                if response.json()['name'] == 'TokenExpiredError':\n",
    "                return\n",
    "            else:\n",
    "                \n",
    "\n",
    "    except Exception as ex:\n",
    "        print(f\"Fluxo de excessão.{ex}\")\n",
    "\n",
    "    gerencia_requisuicao_authencicada(url=f\"{url_base}/products\", authorizantion_header=authorizantion_header)"
   ]
  }
 ],
 "metadata": {
  "kernelspec": {
   "display_name": "Python 3",
   "language": "python",
   "name": "python3"
  },
  "language_info": {
   "codemirror_mode": {
    "name": "ipython",
    "version": 3
   },
   "file_extension": ".py",
   "mimetype": "text/x-python",
   "name": "python",
   "nbconvert_exporter": "python",
   "pygments_lexer": "ipython3",
   "version": "3.11.5"
  },
  "orig_nbformat": 4
 },
 "nbformat": 4,
 "nbformat_minor": 2
}
