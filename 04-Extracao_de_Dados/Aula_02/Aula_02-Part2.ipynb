{
 "cells": [
  {
   "cell_type": "code",
   "execution_count": 1,
   "metadata": {},
   "outputs": [],
   "source": [
    "import requests\n",
    "import json"
   ]
  },
  {
   "cell_type": "markdown",
   "metadata": {},
   "source": [
    "## Autenticação\n",
    "### Fluxo de Retry\n",
    "- Implementação do fluxo de re-autenticação\n",
    "\n",
    "- Principais Tipos de Autenticação\n",
    "\n",
    "1. Baerer Token\n",
    "2. OAuth\n",
    "3. API Key"
   ]
  },
  {
   "cell_type": "code",
   "execution_count": 2,
   "metadata": {},
   "outputs": [],
   "source": [
    "def autenticar(login, senha):\n",
    "    login_response = requests.post(\n",
    "        url=\"https://dummyjson.com/auth/login\",\n",
    "        headers={\"Content-Type\": \"application/json\"},\n",
    "        data=json.dumps({\n",
    "            \"username\": login,\n",
    "            \"password\": senha,\n",
    "            \"expiresInMins\": 1\n",
    "        })\n",
    "    )\n",
    "    \n",
    "    return login_response.json()['token']\n",
    "\n",
    "access_token = autenticar(login=\"kminchelle\", senha=\"0lelplR\")"
   ]
  },
  {
   "cell_type": "code",
   "execution_count": null,
   "metadata": {},
   "outputs": [],
   "source": [
    "url_base = \"https://dummyjson.com/auth/\"\n",
    "\n",
    "authorization_header = {\n",
    "    \"Authorization\": f\"Bearer {access_token}\", \n",
    "    \"Content-Type\": \"application/json\"\n",
    "}"
   ]
  },
  {
   "cell_type": "code",
   "execution_count": null,
   "metadata": {},
   "outputs": [],
   "source": [
    "## Caso de Sucesso com Authenticação\n",
    "\n",
    "authenticated_products_response = requests.get(\n",
    "    url=f\"{url_base}/products\",\n",
    "    headers=authorization_header\n",
    ")\n",
    "\n",
    "print(f\"Status Code: {authenticated_products_response.status_code}\")\n",
    "print(f\"Content: {authenticated_products_response.text}\")"
   ]
  },
  {
   "cell_type": "code",
   "execution_count": null,
   "metadata": {},
   "outputs": [],
   "source": [
    "authorization_header_errado = {\n",
    "    \"Authorization\": f\"Bearer 123654646156475656498789656\", \n",
    "    \"Content-Type\": \"application/json\"\n",
    "}\n",
    "\n",
    "authenticated_products_response = requests.get(\n",
    "    url=f\"{url_base}/products\",\n",
    "    headers=authorization_header_errado\n",
    ")\n",
    "\n",
    "print(f\"Status Code: {authenticated_products_response.status_code}\")"
   ]
  },
  {
   "cell_type": "code",
   "execution_count": null,
   "metadata": {},
   "outputs": [],
   "source": [
    "### Implementação do Fluxo de Re-autenticação"
   ]
  },
  {
   "cell_type": "code",
   "execution_count": null,
   "metadata": {},
   "outputs": [],
   "source": [
    "def constroi_authentication_headers():\n",
    "    access_token = autenticar(login=\"kminchelle\", senha=\"0lelplR\")\n",
    "    \n",
    "    return {\n",
    "        \"Authorization\": f\"Bearer {access_token}\",\n",
    "        \"Content-Type\": \"application/json\"\n",
    "    }"
   ]
  },
  {
   "cell_type": "code",
   "execution_count": null,
   "metadata": {},
   "outputs": [],
   "source": [
    "def gerencia_requisicao_authenticada(url: str, authorization_header: dict, max_retries: int, current_retry: int =0):\n",
    "\n",
    "    response = requests.get(\n",
    "        url=url,\n",
    "        headers=authorization_header\n",
    "    )\n",
    "    \n",
    "    try:\n",
    "        response_content = response.json()\n",
    "        \n",
    "        if response.status_code == 401:\n",
    "            if current_retry < max_retries:\n",
    "                if response_content['name'] == \"TokenExpiredError\":\n",
    "                    return gerencia_requisicao_authenticada(\n",
    "                        url=url,\n",
    "                        authorization_header=constroi_authentication_headers(),\n",
    "                        max_retries=max_retries,\n",
    "                        current_retry=current_retry+1\n",
    "                    )\n",
    "            else:\n",
    "                print(f\"Não foi possível recuperar a requisição após o código. Código: {response.status_code}\")\n",
    "          \n",
    "        return response_content\n",
    "    except Exception as ex:\n",
    "        print(f\"Fluxo de exceção. Detalhe: {ex}\")"
   ]
  },
  {
   "cell_type": "code",
   "execution_count": null,
   "metadata": {},
   "outputs": [],
   "source": [
    "gerencia_requisicao_authenticada(url=f\"{url_base}/products\", authorization_header=authorization_header, max_retries=3)"
   ]
  },
  {
   "cell_type": "markdown",
   "metadata": {},
   "source": [
    "### Acessando apenas os recursos desejados em uma API\n",
    "Filtrando recursis por Request Path"
   ]
  },
  {
   "cell_type": "code",
   "execution_count": null,
   "metadata": {},
   "outputs": [],
   "source": [
    "def constroi_authentication_headers():\n",
    "    access_token = autenticar(login=\"kminchelle\", senha=\"0lelplR\")\n",
    "    \n",
    "    return {\n",
    "        \"Authorization\": f\"Bearer {access_token}\",\n",
    "        \"Content-Type\": \"application/json\"\n",
    "    }"
   ]
  },
  {
   "cell_type": "code",
   "execution_count": null,
   "metadata": {},
   "outputs": [],
   "source": [
    "query_reponse = requests.get(url=\"https://dummyjson.com/auth/products/search?q=phone\", headers=constroi_authentication_headers())\n",
    "query_reponse.json()"
   ]
  },
  {
   "cell_type": "code",
   "execution_count": null,
   "metadata": {},
   "outputs": [],
   "source": [
    "## Trabalhando com Paginação\n",
    "## Parametros de Paginação me ajudam e definir qual intervalo de dados eu desejo consumir\n",
    "## Onde é util:\n",
    "## 5.000.000\n",
    "## Lambda 1KB\n",
    "## 5.000.000 - API pode demorar muito pra responder, a API pode estar programada pra não responder tudo isso, ou programa pode não ter\n",
    "## Capacidade de processar tudo isso\n",
    "\n",
    "## 0  Skip\n",
    "## 10 limit\n",
    "## 100 total\n",
    "\n",
    "## 10 skip \n",
    "## 10 limit\n",
    "## 100 total\n",
    "\n",
    "## 20 skip \n",
    "## 10 limit\n",
    "## 100 total\n",
    "\n",
    "## 90 skip \n",
    "## 10 limit\n",
    "## 100 total\n",
    "\n",
    "\n",
    "\n",
    "response_paginado = requests.get(\"https://dummyjson.com/auth/products?limit=10&skip=10&select=title,price\", headers=constroi_authentication_headers())\n",
    "\n",
    "response_paginado.json()"
   ]
  }
 ],
 "metadata": {
  "kernelspec": {
   "display_name": "Python 3",
   "language": "python",
   "name": "python3"
  },
  "language_info": {
   "codemirror_mode": {
    "name": "ipython",
    "version": 3
   },
   "file_extension": ".py",
   "mimetype": "text/x-python",
   "name": "python",
   "nbconvert_exporter": "python",
   "pygments_lexer": "ipython3",
   "version": "3.11.5"
  },
  "orig_nbformat": 4
 },
 "nbformat": 4,
 "nbformat_minor": 2
}
