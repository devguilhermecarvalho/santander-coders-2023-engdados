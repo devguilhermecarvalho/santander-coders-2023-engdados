{
 "cells": [
  {
   "cell_type": "markdown",
   "metadata": {},
   "source": [
    "# Revisando os Conceitos da Aula Anterior"
   ]
  },
  {
   "cell_type": "markdown",
   "metadata": {},
   "source": [
    "## ETL e ELT"
   ]
  },
  {
   "cell_type": "markdown",
   "metadata": {},
   "source": [
    "#### ETL -> Extract Transform and Load\n",
    "\n",
    "- Dados ingeridos já de acordo com sua finalidade\n",
    "- Sempre que adquiro um dado já aplico as transformações de negócio necessárias\n",
    "- Necessita de um conhecimento Prévio da Finalidade do Dado\n",
    "\n",
    "#### ELT -> Extract Load and Transform\n",
    "\n",
    "- Todo dado é válido\n",
    "- Armazenamento do dado em seu estado original\n",
    "- Não necessitamos conhecer a finalidade para a aquisição de um dado\n",
    "- Torna mais flexível e reaproveitável o uso do dado ingerido\n",
    "- Permite níveis de refinamento diferentes do dado disponíveis no ambiente"
   ]
  },
  {
   "cell_type": "markdown",
   "metadata": {},
   "source": [
    "## APIs\n",
    "\n",
    "- Biblioteca Python Requests\n",
    "\n",
    "    - > %pip install requests\n",
    "    - > import requests\n",
    "    \n",
    "- APIs são interfaces que nos permitem conversar com outros sistemas e contextos\n",
    "\n",
    "- Principais verbos HTTP\n",
    "    - GET\n",
    "    - POST\n",
    "    - PUT\n",
    "    - PATCH\n",
    "    - DELETE\n",
    "\n",
    "- Introdução aos Códigos de Resposta HTTP\n",
    "    - 200 - 299 - OK\n",
    "    - 400 - 499 - Erro por parte do Cliente\n",
    "    - 500 - 599 - Erro por parte do Servidor"
   ]
  },
  {
   "cell_type": "markdown",
   "metadata": {},
   "source": [
    "# EXTRAÇÃO DE DADOS I - AULA  02"
   ]
  },
  {
   "cell_type": "code",
   "execution_count": null,
   "metadata": {
    "vscode": {
     "languageId": "plaintext"
    }
   },
   "outputs": [],
   "source": []
  }
 ],
 "metadata": {
  "language_info": {
   "name": "python"
  },
  "orig_nbformat": 4
 },
 "nbformat": 4,
 "nbformat_minor": 2
}
