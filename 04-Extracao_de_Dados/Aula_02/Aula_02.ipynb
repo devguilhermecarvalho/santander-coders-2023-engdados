{
 "cells": [
  {
   "cell_type": "code",
   "execution_count": null,
   "metadata": {},
   "outputs": [],
   "source": [
    "import requests\n",
    "import json"
   ]
  },
  {
   "cell_type": "code",
   "execution_count": null,
   "metadata": {},
   "outputs": [],
   "source": [
    "# Fazendo uma requisição\n",
    "\n",
    "response = requests.get(url=\"https://fakestoreapi.com/products\")\n",
    "\n",
    "response.status_code"
   ]
  },
  {
   "cell_type": "code",
   "execution_count": null,
   "metadata": {},
   "outputs": [],
   "source": [
    "# Métodos de retorno de uma api\n",
    "response.json()\n",
    "# response.content()\n",
    "# response.texto()"
   ]
  },
  {
   "cell_type": "code",
   "execution_count": null,
   "metadata": {},
   "outputs": [],
   "source": [
    "# Obtendo a resposta da requisição a partir de um texto\n",
    "\n",
    "text_content = response.text\n",
    "print(f'O tipo da resposta é{type(text_content)}')\n",
    "\n",
    "# Loads = Load String\n",
    "# Converte o texto em uma string tipo JSon\n",
    "\n",
    "json_content_parsed = json.loads(text_content)\n",
    "\n",
    "print(f'O tipo da resposta após utilizar o json.loas é:{type(json_content_parsed)}')\n"
   ]
  },
  {
   "cell_type": "code",
   "execution_count": null,
   "metadata": {},
   "outputs": [],
   "source": [
    "# Tratando retornos com erro\n",
    "# Códigos 400 e 500\n",
    "\n",
    "response = requests.get(url=\"https://fakestoreapi.com/products\")\n",
    "\n",
    "print(f\"O Código do retorno é: {response.status_code}\")\n",
    "\n",
    "# Quando tentamos utilizar o método json porém o retorno é diferente de um json, temos uma excessão\n",
    "# porém ainda é possível utilizar o método text para obter o resultado da execução\n",
    "response.json"
   ]
  },
  {
   "cell_type": "code",
   "execution_count": null,
   "metadata": {},
   "outputs": [],
   "source": [
    "def gerencia_requisição(url: str, endpoint: str, current_retry: int=0, max_retries: int=0):\n",
    "\n",
    "    urls = (\n",
    "            \"https://fakestoreapi.com/produtctsa\",\n",
    "            \"https://fakestoreapi.com/produtctsb\",\n",
    "            \"https://fakestoreapi.com/produtcts\"\n",
    "            )\n",
    "\n",
    "    response = requests.get(url=urls[current_retry])\n",
    "\n",
    "    if (response.status_code >= 400 and response.status_code <= 499) or(response.status_code >= 500 and response.status_code <= 599):\n",
    "        if current_retry <= max_retries:\n",
    "            return gerencia_requisição(\n",
    "                url=url,\n",
    "                endpoint=endpoint,\n",
    "                current_retry=current_retry+1,\n",
    "                max_retries=max_retries\n",
    "            )\n",
    "        else:\n",
    "            return \"error\", {\n",
    "                \"code\": response.status_code,\n",
    "                \"message\": response.text\n",
    "            }\n",
    "        print(f\"Ocorreu um erro na chamada API. ERRO: {response.status_code}\")\n",
    "\n",
    "    return \"sucess\", response.text"
   ]
  },
  {
   "cell_type": "code",
   "execution_count": null,
   "metadata": {},
   "outputs": [],
   "source": [
    "gerencia_requisição(\n",
    "    url=\"https://fakestoreapi.com\",\n",
    "    endpoint=\"products\",\n",
    "    max_retries=3\n",
    ")"
   ]
  },
  {
   "cell_type": "markdown",
   "metadata": {},
   "source": [
    "# Autenticação\n",
    "\n",
    "# Por que uma API utiliza autenticação?\n",
    "\n",
    "- Garantir que o usuário só acesse seus próprios dados\n",
    "- Garantir que o usuário só acesse recursos específicos\n",
    "- Auditoria de acesso\n",
    "\n",
    "Principais Tipoes de Autenticação\n",
    "- Barer Token\n",
    "    - JSon web token\n",
    "- Auth\n",
    "- API Key"
   ]
  },
  {
   "cell_type": "code",
   "execution_count": null,
   "metadata": {},
   "outputs": [],
   "source": []
  }
 ],
 "metadata": {
  "kernelspec": {
   "display_name": "Python 3",
   "language": "python",
   "name": "python3"
  },
  "language_info": {
   "codemirror_mode": {
    "name": "ipython",
    "version": 3
   },
   "file_extension": ".py",
   "mimetype": "text/x-python",
   "name": "python",
   "nbconvert_exporter": "python",
   "pygments_lexer": "ipython3",
   "version": "3.11.5"
  },
  "orig_nbformat": 4
 },
 "nbformat": 4,
 "nbformat_minor": 2
}
