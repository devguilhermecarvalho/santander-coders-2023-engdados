{
 "cells": [
  {
   "cell_type": "code",
   "execution_count": null,
   "metadata": {},
   "outputs": [],
   "source": [
    "### APIS\n",
    "# A biblioteca Python requests é uma ferramenta poderosa para fazer solicitações HTTP a servidores web. Ela permite que você envie solicitações HTTP, como GET, POST, PUT, DELETE e muito mais, e receba respostas dos servidores.\n",
    "\n",
    "## instalando\n",
    "# pip install requests\n",
    "\n",
    "### Verbos HTTP\n",
    "## Define a ação do recurso que estamos chamando\n",
    "# GET   - Retorna um recurso sem alterar nada no servidor/dado\n",
    "# POST  - Criação de recurso ou alteração de algo no servidor\n",
    "# PUT   - Alteração de todas as características de uma entidade\n",
    "# DELETE    - Apaga recursos\n",
    "# PACH  - Alteração parcial de características de uma entidade\n",
    "# CONNECT - Usado para estabelecer uma conexão de rede com um recurso, geralmente para configurar um túnel SSL (Secure Sockets Layer) para comunicação segura.\n",
    "# OPTIONS - Pergunta ao servidor quais métodos HTTP e recursos estão disponíveis para uma determinada URL. Isso pode ser útil para descobrir quais operações são permitidas em um recurso.\n",
    "# HEAD  - Similar ao GET, mas solicita apenas os cabeçalhos da resposta e não o corpo do recurso. É frequentemente usado para verificar informações sobre o recurso, como a data de modificação, sem baixar o conteúdo completo."
   ]
  },
  {
   "cell_type": "code",
   "execution_count": 1,
   "metadata": {},
   "outputs": [
    {
     "name": "stdout",
     "output_type": "stream",
     "text": [
      "Título do post: sunt aut facere repellat provident occaecati excepturi optio reprehenderit\n",
      "Corpo do post: quia et suscipit\n",
      "suscipit recusandae consequuntur expedita et cum\n",
      "reprehenderit molestiae ut ut quas totam\n",
      "nostrum rerum est autem sunt rem eveniet architecto\n"
     ]
    }
   ],
   "source": [
    "import requests\n",
    "\n",
    "# URL da API que queremos acessar\n",
    "url = \"https://jsonplaceholder.typicode.com/posts/1\"\n",
    "\n",
    "# Fazendo uma solicitação GET para a URL\n",
    "response = requests.get(url)\n",
    "\n",
    "# Verificando se a solicitação foi bem-sucedida (código de status 200 indica sucesso)\n",
    "if response.status_code == 200:\n",
    "    # Convertendo a resposta JSON em um objeto Python (dicionário)\n",
    "    data = response.json()\n",
    "    print(\"Título do post:\", data['title'])\n",
    "    print(\"Corpo do post:\", data['body'])\n",
    "else:\n",
    "    print(\"Erro na solicitação. Código de status:\", response.status_code)"
   ]
  }
 ],
 "metadata": {
  "kernelspec": {
   "display_name": "Python 3",
   "language": "python",
   "name": "python3"
  },
  "language_info": {
   "codemirror_mode": {
    "name": "ipython",
    "version": 3
   },
   "file_extension": ".py",
   "mimetype": "text/x-python",
   "name": "python",
   "nbconvert_exporter": "python",
   "pygments_lexer": "ipython3",
   "version": "3.11.5"
  },
  "orig_nbformat": 4
 },
 "nbformat": 4,
 "nbformat_minor": 2
}
