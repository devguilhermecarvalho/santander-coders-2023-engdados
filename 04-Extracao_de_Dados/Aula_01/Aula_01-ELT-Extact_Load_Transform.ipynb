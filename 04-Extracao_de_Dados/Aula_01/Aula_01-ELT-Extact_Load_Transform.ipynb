{
 "cells": [
  {
   "cell_type": "code",
   "execution_count": null,
   "metadata": {},
   "outputs": [],
   "source": [
    "# Importando a biblioteca pandas\n",
    "import pandas as pd\n",
    "from unidecode import unidecode"
   ]
  },
  {
   "cell_type": "code",
   "execution_count": null,
   "metadata": {},
   "outputs": [],
   "source": [
    "# Etapa I: Extração de dados \n",
    "    # Normalmente o dado é extraído de um lugar e armazenado em outro\n",
    "\n",
    "# Conectando-se aos dados do arquivo CSV\n",
    "df_dados = pd.read_csv(\"../Dados/input/olist_customers_dataset.csv\", sep=\",\")\n"
   ]
  },
  {
   "cell_type": "code",
   "execution_count": null,
   "metadata": {},
   "outputs": [],
   "source": [
    "# Etapa II: Load\n",
    "    # Os dados são armazenados e carregados no 'data lake' sem transformações\n",
    "\n",
    "# Armazenando na pasta Raw\n",
    "df_dados.to_csv(\"./Raw/dados_customers\", sep=\";\" ,mode=\"w\", index=False)\n",
    "# Carregando os dados salvos\n",
    "df_dados_customers = df_dados.copy()"
   ]
  },
  {
   "cell_type": "code",
   "execution_count": null,
   "metadata": {},
   "outputs": [],
   "source": [
    "display(df_dados_customers)"
   ]
  },
  {
   "cell_type": "code",
   "execution_count": null,
   "metadata": {},
   "outputs": [],
   "source": [
    "# Etapa III: Transform\n",
    "    # Aplicando transformações por demanda\n",
    "\n",
    "df_transformed_customers = df_dados_customers.copy()\n",
    "\n",
    "df_transformed_customers = df_transformed_customers.drop_duplicates(subset=['customer_unique_id','customer_id','customer_zip_code_prefix'])\n",
    "\n",
    "df_transformed_customers['customer_state_sigla'] = df_transformed_customers['customer_state']\n",
    "\n",
    "# Formata Estados\n",
    "def formata_estados(sigla):\n",
    "    sigla_normalizada = sigla.upper()\n",
    "    \n",
    "    sigla_estados = {\n",
    "        \"SP\": \"São Paulo\",\n",
    "        \"RJ\": \"Rio de Janeiro\",\n",
    "        \"ES\": \"Espírito Santo\",\n",
    "        \"MG\": \"Minas Gerais\",\n",
    "        \"BH\": \"Bahia\",\n",
    "        \"CE\": \"Ceará\",\n",
    "        \"AM\": \"Amazonas\",\n",
    "        \"TO\": \"Tocantins\",\n",
    "        \"GO\": \"Goiás\",\n",
    "        \"MT\": \"Mato Grosso\",\n",
    "        \"DF\": \"Distrito Federal\",\n",
    "        \"RS\": \"Rio Grande do Sul\",\n",
    "        \"PI\": \"Piauí\",\n",
    "        \"RN\": \"Rio Grande do Norte\",\n",
    "        \"AC\": \"Acre\"\n",
    "    }\n",
    "    \n",
    "    if sigla_normalizada in sigla_estados.keys():\n",
    "        return sigla_estados[sigla_normalizada]\n",
    "    \n",
    "    return \"Outros\"\n",
    "\n",
    "df_transformed_customers[\"customer_state\"] = df_transformed_customers[\"customer_state\"].apply(formata_estados)\n",
    "\n",
    "# Aplicando formatações\n",
    "def formatacoes_textos(df_transformed_customers):\n",
    "    def remover_acentos(texto):\n",
    "        if isinstance(texto, str):  # Verificar se é uma string\n",
    "            return unidecode(texto).upper()\n",
    "        return texto  # Retorna o valor original se não for uma string\n",
    "    \n",
    "    df_transformed_customers['customer_city'] = df_transformed_customers['customer_city'].apply(remover_acentos)\n",
    "\n",
    "# Chamando a função de formatação\n",
    "formatacoes_textos(df_transformed_customers)\n",
    "\n",
    "display(df_transformed_customers)"
   ]
  },
  {
   "cell_type": "code",
   "execution_count": null,
   "metadata": {},
   "outputs": [],
   "source": [
    "# Tratamento\n",
    "df_transformed_city = df_transformed_customers.copy()\n",
    "df_transformed_city = df_transformed_city.groupby(['customer_city','customer_state'])['customer_unique_id'].count().reset_index()\n",
    "\n",
    "display(df_transformed_city)\n"
   ]
  },
  {
   "cell_type": "code",
   "execution_count": null,
   "metadata": {},
   "outputs": [],
   "source": [
    "# Tratamento \n",
    "df_transformed_state = df_transformed_customers.copy()\n",
    "df_transformed_state = df_transformed_state.groupby(['customer_state'])['customer_unique_id'].count().reset_index()\n",
    "\n",
    "display(df_transformed_state)"
   ]
  }
 ],
 "metadata": {
  "kernelspec": {
   "display_name": "Python 3",
   "language": "python",
   "name": "python3"
  },
  "language_info": {
   "codemirror_mode": {
    "name": "ipython",
    "version": 3
   },
   "file_extension": ".py",
   "mimetype": "text/x-python",
   "name": "python",
   "nbconvert_exporter": "python",
   "pygments_lexer": "ipython3",
   "version": "3.11.5"
  },
  "orig_nbformat": 4
 },
 "nbformat": 4,
 "nbformat_minor": 2
}
