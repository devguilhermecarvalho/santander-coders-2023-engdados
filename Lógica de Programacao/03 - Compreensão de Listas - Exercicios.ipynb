{
 "cells": [
  {
   "cell_type": "markdown",
   "metadata": {},
   "source": [
    "- Coloque em uma lista todos os números entre 1 e 1000 que sejam divisiveis por N, sendo N um número recebido no standard input;\n",
    "- Coloque em uma lista todos os números entre 1 e 1000 que possuam um dígito N em sua composição, sendo N um número recebido no standard input;\n",
    "- Conte o número de espaços em branco em uma string recebida pelo standard input;\n",
    "- Crie uma lista com todas as consoantes em uma frase (de pelo menos 10 palavras) recebidas pelo standard input;\n",
    "- Pegue o índice e o valor, na forma de tupla, para os itens na lista: ['oi', 4, 8.99, 'mamao', ('t,b', 'n')]. O resultado seria semelhante a (indice, valor), (indice, valor);\n",
    "- Encontre os números em comum em duas listas (sem utilizar \"tupla\" ou \"set\"), sendo ambas as listas recebidas pelo standard input e com, pelo menos, 5 valores em cada;\n",
    "- Receba uma frase pelo standard input e salve apenas os números encontrados nesta frase em uma lista;\n",
    "- Dado o seguinte iterável: numeros = range(20), produza uma lista contendo as palavras 'par' e 'impar' caso o número daquela posição seja par/impar. Teremos, ao final, uma segunda lista com ['impar', 'par', 'par', 'impar', etc];\n",
    "- Construa uma lista de tuplas que tenha apenas os números em comum entre duas listas, sendo: lista1 = [1, 2, 3, 4, 5, 6, 7, 8, 9] e lista2 = [2, 7, 1, 12] e o resultado deve ser algo do tipo: [(1,1), (2,2), etc];\n",
    "- Encontre todas as palavras em uma string, que contenham menos de 4 letras;\n",
    "Use uma compreensão de lista aninhada para encontrar todos os números entre 1-1000 que sejam divisiveis por algum número entre 2-9."
   ]
  },
  {
   "cell_type": "code",
   "execution_count": null,
   "metadata": {},
   "outputs": [],
   "source": [
    "#Exercicio 01\n",
    "numero = int(input(\"\"))\n",
    "lista = [n for n in range(1, 1001) if n % numero == 0]\n",
    "print(lista)"
   ]
  },
  {
   "cell_type": "code",
   "execution_count": 3,
   "metadata": {},
   "outputs": [
    {
     "name": "stdout",
     "output_type": "stream",
     "text": [
      "[2]\n"
     ]
    }
   ],
   "source": [
    "#Exercicio 02\n",
    "numero = input(\"\")\n",
    "lista = [n for n in range(1, 1001) if str(n) in str(numero)]\n",
    "print(lista)"
   ]
  },
  {
   "cell_type": "code",
   "execution_count": null,
   "metadata": {},
   "outputs": [],
   "source": [
    "#Exercicio 03\n",
    "texto = str(input(\"\"))\n",
    "contador = [espaco for espaco in texto if espaco == \" \"]\n",
    "\n",
    "print(len(contador))"
   ]
  },
  {
   "cell_type": "code",
   "execution_count": null,
   "metadata": {},
   "outputs": [],
   "source": [
    "#Exercicio 04\n",
    "texto = str(input(\"\"))\n",
    "vogais = [\"a\", \"e\", \"i\", \"o\", \"u\", \" \"]\n",
    "lista_consoantes = [consoantes for consoantes in texto if consoantes not in vogais]\n",
    "consoantes_string = \"\".join(lista_consoantes)\n",
    "\n",
    "print(f\"Essas são as consoantes: {consoantes_string}\")"
   ]
  },
  {
   "cell_type": "code",
   "execution_count": null,
   "metadata": {},
   "outputs": [],
   "source": [
    "#Exercicio 06\n",
    "lista1 = [1, 2, 3, 4]\n",
    "lista2 = [2, 3, 4, 5]\n",
    "comum = "
   ]
  },
  {
   "cell_type": "code",
   "execution_count": null,
   "metadata": {},
   "outputs": [],
   "source": [
    "\n"
   ]
  },
  {
   "cell_type": "code",
   "execution_count": null,
   "metadata": {},
   "outputs": [],
   "source": [
    "#Exercicio 07\n",
    "frase = \"\"\n",
    "palavras = frase.split()\n",
    "resultado = [numero for numero in palavras if not numero.isalpha()]\n",
    "print(resultado)"
   ]
  },
  {
   "cell_type": "code",
   "execution_count": null,
   "metadata": {},
   "outputs": [],
   "source": [
    "#Exercicio 08\n",
    "resultado = ['par' if n % 2 ==0 else 'impar' for n in range(1, 21)]\n",
    "print(resultado)"
   ]
  },
  {
   "cell_type": "code",
   "execution_count": 4,
   "metadata": {},
   "outputs": [
    {
     "name": "stdout",
     "output_type": "stream",
     "text": [
      "[(1, 1), (2, 2), (7, 7)]\n"
     ]
    }
   ],
   "source": [
    "#Exercicio 09\n",
    "lista1 = [1, 2, 3, 4, 5, 6, 7, 8, 9]\n",
    "lista2 = [2, 7, 1, 12]\n",
    "\n",
    "resultado =[(a, b) for a in lista1 for b in lista2 if a == b]\n",
    "print(resultado)"
   ]
  },
  {
   "cell_type": "code",
   "execution_count": null,
   "metadata": {},
   "outputs": [],
   "source": [
    "#Exercicio 10"
   ]
  },
  {
   "cell_type": "code",
   "execution_count": null,
   "metadata": {},
   "outputs": [],
   "source": [
    "#Exercicio 11"
   ]
  }
 ],
 "metadata": {
  "kernelspec": {
   "display_name": "Python 3",
   "language": "python",
   "name": "python3"
  },
  "language_info": {
   "codemirror_mode": {
    "name": "ipython",
    "version": 3
   },
   "file_extension": ".py",
   "mimetype": "text/x-python",
   "name": "python",
   "nbconvert_exporter": "python",
   "pygments_lexer": "ipython3",
   "version": "3.11.3"
  },
  "orig_nbformat": 4
 },
 "nbformat": 4,
 "nbformat_minor": 2
}
