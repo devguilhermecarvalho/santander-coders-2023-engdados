{
 "cells": [
  {
   "cell_type": "code",
   "execution_count": null,
   "metadata": {},
   "outputs": [],
   "source": [
    "def max_min(colecao):\n",
    "    maior = max(colecao)\n",
    "    menor = min(colecao)\n",
    "    return maior, menor\n",
    "\n",
    "numeros = [3, 1, 4, 1, 5, 9, 2]\n",
    "\n",
    "resposta = max_min(numeros)\n",
    "print(resposta)\n",
    "print(type(resposta)) # mostra o tipo da variável resposta\n",
    "\n",
    "maior = resposta[0]\n",
    "menor = resposta[1]"
   ]
  },
  {
   "cell_type": "code",
   "execution_count": null,
   "metadata": {},
   "outputs": [],
   "source": [
    "def padroniza_string(texto, lower=True):\n",
    "    if lower:\n",
    "        return texto.lower()\n",
    "    else:\n",
    "        return texto.upper()\n",
    "\n",
    "texto01 = \"Sem passar o SEGUNDO argumento\"\n",
    "print(padroniza_string(texto01))\n",
    "print(padroniza_string(texto01, lower=True))\n",
    "print(padroniza_string(texto01, lower=False))"
   ]
  },
  {
   "cell_type": "code",
   "execution_count": null,
   "metadata": {},
   "outputs": [],
   "source": [
    "def somatorio(*numeros):\n",
    "    # remova o símbolo de comentário das linhas abaixo para entender melhor o parâmetro\n",
    "    # print (numeros)\n",
    "    # print(type(numeros))\n",
    "    soma = 0\n",
    "    for n in numeros:\n",
    "        soma = soma + n\n",
    "    return soma\n",
    "\n",
    "s1 = somatorio(5, 3, 1)\n",
    "s2 = somatorio(2, 4, 6, 8, 10)\n",
    "s3 = somatorio(1, 2, 3, 4, 5, 6, 7, 8, 9, 10)\n",
    "print(s1, s2, s3)"
   ]
  },
  {
   "cell_type": "markdown",
   "metadata": {},
   "source": [
    "1. Crie uma função que recebe uma quantidade variável de argumentos numéricos e retorna a quantidade de números enviados e a soma deles;\n",
    "\n",
    "2. Crie uma função que recebe nome e idade, porém a idade default deve ser 99;\n",
    "\n",
    "3. Crie uma função externa que deve calcular receber uma quantidade variável de números e chamar uma função interna que deve executar a soma destes números, por fim, a função externa retorna esta soma;\n",
    "\n",
    "4. Renomeie a seguinte função e execute ela pelo nome antigo:\n",
    "def estudante(nome, idade):\n",
    "          print(nome, idade)"
   ]
  },
  {
   "cell_type": "code",
   "execution_count": null,
   "metadata": {},
   "outputs": [],
   "source": [
    "#Exercício 01\n",
    "def soma_e_conta_numeros(*args):\n",
    "    quantidade = len(args)\n",
    "    soma = sum(args)\n",
    "    return quantidade, soma\n",
    "\n",
    "# Exemplo de uso da função\n",
    "resultado = soma_e_conta_numeros(1, 2, 3, 4, 5)\n",
    "print(\"Quantidade de números:\", resultado[0])\n",
    "print(\"Soma dos números:\", resultado[1])"
   ]
  },
  {
   "cell_type": "code",
   "execution_count": null,
   "metadata": {},
   "outputs": [],
   "source": [
    "#Exercício 02\n",
    "def informacoes_pessoa(nome, idade=99):\n",
    "    return f\"Nome: {nome}, Idade: {idade}\"\n",
    "\n",
    "# Exemplo de uso da função com idade definida\n",
    "print(informacoes_pessoa(\"João\", 30))\n",
    "\n",
    "# Exemplo de uso da função sem idade definida (usa o valor padrão 99)\n",
    "print(informacoes_pessoa(\"Maria\"))"
   ]
  },
  {
   "cell_type": "code",
   "execution_count": null,
   "metadata": {},
   "outputs": [],
   "source": [
    "#Exercício 03\n",
    "def calcular_soma(*args):\n",
    "    def soma(*nums):\n",
    "        return sum(nums)\n",
    "\n",
    "    resultado_soma = soma(*args)\n",
    "    return resultado_soma\n",
    "\n",
    "# Exemplo de uso da função externa\n",
    "print(calcular_soma(1, 2, 3, 4, 5))  # Deve retornar 15\n",
    "print(calcular_soma(10, 20, 30))    # Deve retornar 60\n",
    "print(calcular_soma(5, 10, 15, 20)) # Deve retornar 50"
   ]
  }
 ],
 "metadata": {
  "kernelspec": {
   "display_name": "Python 3",
   "language": "python",
   "name": "python3"
  },
  "language_info": {
   "codemirror_mode": {
    "name": "ipython",
    "version": 3
   },
   "file_extension": ".py",
   "mimetype": "text/x-python",
   "name": "python",
   "nbconvert_exporter": "python",
   "pygments_lexer": "ipython3",
   "version": "3.11.3"
  },
  "orig_nbformat": 4
 },
 "nbformat": 4,
 "nbformat_minor": 2
}
