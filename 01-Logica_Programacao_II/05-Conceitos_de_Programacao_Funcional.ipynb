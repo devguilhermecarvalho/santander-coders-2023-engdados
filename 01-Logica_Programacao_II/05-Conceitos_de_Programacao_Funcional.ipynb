{
 "cells": [
  {
   "cell_type": "markdown",
   "metadata": {},
   "source": [
    "### **Conceitos de Programação Funcional**\n",
    "---"
   ]
  },
  {
   "cell_type": "markdown",
   "metadata": {},
   "source": [
    "- **Função Pura**\n",
    "\n",
    "    Uma função pura é uma função que, dado o mesmo conjunto de entradas, sempre produzirá a mesma saída e não tem efeitos colaterais. Isso significa que a função não modifica variáveis fora de seu escopo local e não depende de variáveis globais. "
   ]
  },
  {
   "cell_type": "code",
   "execution_count": 4,
   "metadata": {},
   "outputs": [
    {
     "data": {
      "text/plain": [
       "5"
      ]
     },
     "execution_count": 4,
     "metadata": {},
     "output_type": "execute_result"
    }
   ],
   "source": [
    "def soma():\n",
    "    a = 2\n",
    "    b = 3\n",
    "    return a + b\n",
    "\n",
    "soma()"
   ]
  },
  {
   "cell_type": "markdown",
   "metadata": {},
   "source": [
    "-  **Função Impura**\n",
    "    \n",
    "    Uma função impura é aquela que pode produzir resultados diferentes para as mesmas entradas ou tem efeitos colaterais, como modificar variáveis globais."
   ]
  },
  {
   "cell_type": "code",
   "execution_count": 10,
   "metadata": {},
   "outputs": [
    {
     "data": {
      "text/plain": [
       "7"
      ]
     },
     "execution_count": 10,
     "metadata": {},
     "output_type": "execute_result"
    }
   ],
   "source": [
    "total = 5\n",
    "\n",
    "def adiciona_valor(a):\n",
    "    global total\n",
    "    total += a\n",
    "    return total\n",
    "\n",
    "adiciona_valor(a)"
   ]
  },
  {
   "cell_type": "markdown",
   "metadata": {},
   "source": [
    "- **Atribuindo função para uma variável em Python**"
   ]
  },
  {
   "cell_type": "code",
   "execution_count": 11,
   "metadata": {},
   "outputs": [
    {
     "name": "stdout",
     "output_type": "stream",
     "text": [
      "Tipo da variável x: <class 'function'>\n",
      "olá mundo\n"
     ]
    }
   ],
   "source": [
    "def funcao():\n",
    "    print('olá mundo')\n",
    "\n",
    "x = funcao\n",
    "print('Tipo da variável x:', type(x))\n",
    "x()"
   ]
  },
  {
   "cell_type": "markdown",
   "metadata": {},
   "source": [
    "- **Passando uma função como parâmetro para outra função**"
   ]
  },
  {
   "cell_type": "code",
   "execution_count": null,
   "metadata": {},
   "outputs": [],
   "source": [
    "def soma(a, b):\n",
    "    return a + b\n",
    "\n",
    "def multiplicacao(a, b):\n",
    "    return a * b\n",
    "\n",
    "def cumulativo(inicial, quantidade, operacao):\n",
    "    contador = 1\n",
    "    acumulado = inicial\n",
    "    while contador <= quantidade:\n",
    "        acumulado = operacao(acumulado, contador)\n",
    "        contador += 1\n",
    "    return acumulado\n",
    "\n",
    "somatorio = cumulativo(0, 5, soma)\n",
    "fatorial = cumulativo(1, 5, multiplicacao)\n",
    "print(f'Somatório de 1 a 5: {somatorio} | Fatorial de 5: {fatorial}')"
   ]
  },
  {
   "cell_type": "markdown",
   "metadata": {},
   "source": [
    "---\n",
    "- **Funções anônimas / Funções lambda**"
   ]
  },
  {
   "cell_type": "code",
   "execution_count": 12,
   "metadata": {},
   "outputs": [
    {
     "name": "stdout",
     "output_type": "stream",
     "text": [
      "8\n"
     ]
    }
   ],
   "source": [
    "# Uma função lambda que adiciona dois números\n",
    "adicao = lambda x, y: x + y\n",
    "print(adicao(5, 3))  # Saída: 8"
   ]
  },
  {
   "cell_type": "code",
   "execution_count": 13,
   "metadata": {},
   "outputs": [
    {
     "name": "stdout",
     "output_type": "stream",
     "text": [
      "[{'nome': 'Bob', 'idade': 25}, {'nome': 'Alice', 'idade': 30}, {'nome': 'Charlie', 'idade': 35}]\n"
     ]
    }
   ],
   "source": [
    "# Classificar uma lista de dicionários pelo valor da chave 'idade'\n",
    "pessoas = [{'nome': 'Alice', 'idade': 30}, {'nome': 'Bob', 'idade': 25}, {'nome': 'Charlie', 'idade': 35}]\n",
    "pessoas.sort(key=lambda x: x['idade'])\n",
    "print(pessoas)"
   ]
  },
  {
   "cell_type": "code",
   "execution_count": 14,
   "metadata": {},
   "outputs": [
    {
     "name": "stdout",
     "output_type": "stream",
     "text": [
      "[2, 4, 6, 8]\n"
     ]
    }
   ],
   "source": [
    "# Filtrar números pares em uma lista\n",
    "numeros = [1, 2, 3, 4, 5, 6, 7, 8, 9]\n",
    "pares = list(filter(lambda x: x % 2 == 0, numeros))\n",
    "print(pares)"
   ]
  },
  {
   "cell_type": "code",
   "execution_count": 15,
   "metadata": {},
   "outputs": [
    {
     "name": "stdout",
     "output_type": "stream",
     "text": [
      "[1, 4, 9, 16, 25]\n"
     ]
    }
   ],
   "source": [
    "# Elevar ao quadrado cada número em uma lista\n",
    "numeros = [1, 2, 3, 4, 5]\n",
    "quadrados = list(map(lambda x: x**2, numeros))\n",
    "print(quadrados)"
   ]
  },
  {
   "cell_type": "code",
   "execution_count": 16,
   "metadata": {},
   "outputs": [
    {
     "name": "stdout",
     "output_type": "stream",
     "text": [
      "['Bob', 'Eve', 'Alice', 'David', 'Charlie']\n"
     ]
    }
   ],
   "source": [
    "# Usar uma função lambda como chave de ordenação na função sorted\n",
    "nomes = ['Alice', 'Bob', 'Charlie', 'David', 'Eve']\n",
    "nomes_ordenados = sorted(nomes, key=lambda x: len(x))\n",
    "print(nomes_ordenados)"
   ]
  },
  {
   "cell_type": "markdown",
   "metadata": {},
   "source": [
    "---\n",
    "### **Map**\n",
    "- A função map recebe uma função e uma coleção. Ela irá aplicar a função recebida sobre cada um dos elementos da coleção, retornando uma nova coleção com os retornos de cada uma dessas chamadas."
   ]
  },
  {
   "cell_type": "code",
   "execution_count": 19,
   "metadata": {},
   "outputs": [
    {
     "name": "stdout",
     "output_type": "stream",
     "text": [
      "('1.0', '3.7', '5.4') (1.0, 3.7, 5.4)\n"
     ]
    }
   ],
   "source": [
    "# exemplo 1 - convertendo todo o conteúdo de uma tupla para float\n",
    "tupla_str = ('1.0', '3.7', '5.4')\n",
    "tupla_float = tuple(map(float, tupla_str)) # função: float; coleção: tupla_str\n",
    "print(tupla_str, tupla_float)"
   ]
  },
  {
   "cell_type": "code",
   "execution_count": 18,
   "metadata": {},
   "outputs": [
    {
     "name": "stdout",
     "output_type": "stream",
     "text": [
      "[1, 2, 3, 4] [1, 4, 9, 16]\n"
     ]
    }
   ],
   "source": [
    "# exemplo 2 - elevando a 2 todos os elementos de uma lista usando uma função já existente\n",
    "def quadrado(x):\n",
    "    return x ** 2\n",
    "numeros = [1, 2, 3, 4]\n",
    "numeros_quadrados = list(map(quadrado, numeros)) # função: quadrado; coleção: numeros\n",
    "print(numeros, numeros_quadrados)"
   ]
  },
  {
   "cell_type": "code",
   "execution_count": 17,
   "metadata": {},
   "outputs": [
    {
     "name": "stdout",
     "output_type": "stream",
     "text": [
      "[1, 2, 3, 4] [1, 8, 27, 64]\n"
     ]
    }
   ],
   "source": [
    "# exemplo 3 - elevando a 3 todos os elementos de uma lista usando um lambda\n",
    "numeros = [1, 2, 3, 4]\n",
    "numeros_cubo = list(map(lambda x: x**3, numeros))\n",
    "print(numeros, numeros_cubo)"
   ]
  },
  {
   "cell_type": "markdown",
   "metadata": {},
   "source": [
    "- ***Apesar do Python trazer a função implementada, é possível reproduzir a funcionalidade do map utilizando uma compreensão de lista ou uma expressão geradora.***"
   ]
  },
  {
   "cell_type": "code",
   "execution_count": null,
   "metadata": {},
   "outputs": [],
   "source": [
    "# exemplo 1 - convertendo todo o conteúdo de uma tupla para float\n",
    "tupla_str = ('1.0', '3.7', '5.4')\n",
    "tupla_float = tuple(float(x) for x in tupla_str)\n",
    "print(tupla_str, tupla_float)"
   ]
  },
  {
   "cell_type": "code",
   "execution_count": null,
   "metadata": {},
   "outputs": [],
   "source": [
    "# exemplo 2 - elevando a 2 todos os elementos de uma lista usando uma função já existente\n",
    "def quadrado(x):\n",
    "    return x ** 2\n",
    "numeros = [1, 2, 3, 4]\n",
    "numeros_quadrados = [quadrado(x) for x in numeros]\n",
    "print(numeros, numeros_quadrados)"
   ]
  },
  {
   "cell_type": "code",
   "execution_count": null,
   "metadata": {},
   "outputs": [],
   "source": [
    "# exemplo 3 - elevando a 3 todos os elementos de uma lista sem usar função pronta\n",
    "numeros = [1, 2, 3, 4]\n",
    "numeros_cubo = [x**3 for x in numeros]\n",
    "print(numeros, numeros_cubo)"
   ]
  },
  {
   "cell_type": "markdown",
   "metadata": {},
   "source": [
    "---\n",
    "### **Filter**\n",
    "- A função filter também recebe uma função que deve retornar um booleano e uma coleção. Ela irá conter apenas os elementos da coleção que provocaram valor True na função passada."
   ]
  },
  {
   "cell_type": "code",
   "execution_count": null,
   "metadata": {},
   "outputs": [],
   "source": [
    "# exemplo 1 - detectando pares em uma lista usando função pronta\n",
    "def eh_par(x):\n",
    "    return x % 2 == 0\n",
    "numeros = [3, 6, 4, 8, 7, 9, 2, 5]\n",
    "pares = list(filter(eh_par, numeros)) # função: eh_par; coleção: numeros\n",
    "print(pares)"
   ]
  },
  {
   "cell_type": "code",
   "execution_count": null,
   "metadata": {},
   "outputs": [],
   "source": [
    "# exemplo 2 - detectando negativos em uma lista usando lambda\n",
    "numeros = [5, -3, 1, 4, 7, -8, -2]\n",
    "negativos = list(filter(lambda x: x < 0, numeros))\n",
    "print(negativos)"
   ]
  },
  {
   "cell_type": "markdown",
   "metadata": {},
   "source": [
    "---\n",
    "### **Reduce**\n",
    "A última função especial de alta ordem envolvendo coleções que estudaremos é o reduce. Além da função e da coleção, ele receberá também um valor inicial. Ele irá aplicar a função entre o valor inicial e o primeiro valor da coleção. Em seguida, entre o resultado dessa operação e o segundo valor da coleção. Depois, entre o resultado desta operação e o terceiro valor da coleção, e assim sucessivamente. Ou seja, ele acumula uma operação ao longo de uma coleção. O exemplo mais tradicional é o somatório.\n",
    "\n",
    "Se você possui uma lista contendo os valores [1, 3, 5, 7, 9] e utilizar o reduce com valor inicial 0, ele retornará o resultado de:\n",
    "\n",
    "(((((0 + 1) + 3) + 5) + 7) + 9)\n",
    "\n",
    "No Python, o reduce não é uma função nativa como o map e o filter, e devemos importá-la de functools."
   ]
  },
  {
   "cell_type": "code",
   "execution_count": 20,
   "metadata": {},
   "outputs": [
    {
     "name": "stdout",
     "output_type": "stream",
     "text": [
      "25\n",
      "30\n"
     ]
    }
   ],
   "source": [
    "from functools import reduce\n",
    "\n",
    "lista = [1, 3, 5, 7, 9]\n",
    "\n",
    "somatorio = reduce(lambda x, y: x + y, lista, 0) # função: o lambda criado; coleção: lista; valor inicial: 0\n",
    "\n",
    "print(somatorio)\n",
    "\n",
    "# colocando valor inicial 5\n",
    "\n",
    "somatorio_inicial = reduce(lambda x, y: x + y, lista, 5)\n",
    "print(somatorio_inicial)"
   ]
  },
  {
   "cell_type": "code",
   "execution_count": 21,
   "metadata": {},
   "outputs": [
    {
     "name": "stdout",
     "output_type": "stream",
     "text": [
      "{'Python': ['André', 'Rafael'], 'DevOps': ['Bruna'], 'JavaScript': ['Cabral']}\n"
     ]
    }
   ],
   "source": [
    "from functools import reduce\n",
    "\n",
    "def gera_redutor(dicionario):\n",
    "\n",
    "    def redutor(acumulador, chave):\n",
    "        if dicionario[chave] in acumulador:\n",
    "            acumulador[dicionario[chave]].append(chave)\n",
    "        else:\n",
    "            acumulador[dicionario[chave]] = [chave]\n",
    "        return acumulador\n",
    "    \n",
    "    return redutor\n",
    "\n",
    "professores = {\n",
    "    'André': 'Python',\n",
    "    'Bruna': 'DevOps',\n",
    "    'Cabral': 'JavaScript',\n",
    "    'Rafael': 'Python',\n",
    "}\n",
    "\n",
    "redutor_profs = gera_redutor(professores)\n",
    "\n",
    "profs_por_curso = reduce(redutor_profs,\n",
    "    professores,\n",
    "    {})\n",
    "\n",
    "print(profs_por_curso)"
   ]
  }
 ],
 "metadata": {
  "kernelspec": {
   "display_name": "Python 3",
   "language": "python",
   "name": "python3"
  },
  "language_info": {
   "codemirror_mode": {
    "name": "ipython",
    "version": 3
   },
   "file_extension": ".py",
   "mimetype": "text/x-python",
   "name": "python",
   "nbconvert_exporter": "python",
   "pygments_lexer": "ipython3",
   "version": "3.11.6"
  }
 },
 "nbformat": 4,
 "nbformat_minor": 2
}
