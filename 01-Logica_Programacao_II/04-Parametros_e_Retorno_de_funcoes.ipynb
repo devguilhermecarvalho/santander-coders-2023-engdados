{
 "cells": [
  {
   "cell_type": "markdown",
   "metadata": {},
   "source": [
    "### **Parâmetros e Retorno de Funções**\n",
    "---"
   ]
  },
  {
   "cell_type": "code",
   "execution_count": null,
   "metadata": {},
   "outputs": [],
   "source": [
    "def max_min(colecao):\n",
    "    maior = max(colecao)\n",
    "    menor = min(colecao)\n",
    "    return maior, menor\n",
    "\n",
    "numeros = [3, 1, 4, 1, 5, 9, 2]\n",
    "\n",
    "maior_num, menor_num = max_min(numeros)\n",
    "print(maior_num)\n",
    "print(menor_num)"
   ]
  },
  {
   "cell_type": "code",
   "execution_count": null,
   "metadata": {},
   "outputs": [],
   "source": [
    "def padroniza_string(texto, lower=True):\n",
    "    if lower:\n",
    "        return texto.lower()\n",
    "    else:\n",
    "        return texto.upper()\n",
    "\n",
    "texto01 = \"Sem passar o SEGUNDO argumento\"\n",
    "print(padroniza_string(texto01))\n",
    "print(padroniza_string(texto01, lower=True))\n",
    "print(padroniza_string(texto01, lower=False))"
   ]
  },
  {
   "cell_type": "code",
   "execution_count": null,
   "metadata": {},
   "outputs": [],
   "source": [
    "def somatorio(*numeros):\n",
    "    # remova o símbolo de comentário das linhas abaixo para entender melhor o parâmetro\n",
    "    # print (numeros)\n",
    "    # print(type(numeros))\n",
    "    soma = 0\n",
    "    for n in numeros:\n",
    "        soma = soma + n\n",
    "    return soma\n",
    "\n",
    "s1 = somatorio(5, 3, 1)\n",
    "s2 = somatorio(2, 4, 6, 8, 10)\n",
    "s3 = somatorio(1, 2, 3, 4, 5, 6, 7, 8, 9, 10)\n",
    "print(s1, s2, s3)"
   ]
  },
  {
   "cell_type": "markdown",
   "metadata": {},
   "source": [
    "---\n",
    "### **Kwargs**\n",
    "\n",
    "Para criar parâmetros opcionais, usaremos **, e os parâmetros passados serão agrupados em um dicionário: o nome do parâmetro será uma chave, e o valor será o respectivo valor.\n",
    "\n",
    "O exemplo abaixo simula o cadastro de usuários em uma base de dados. Um usuário pode fornecer seu nome, seu CPF ou ambos."
   ]
  },
  {
   "cell_type": "code",
   "execution_count": null,
   "metadata": {},
   "outputs": [],
   "source": [
    "def cadastro(**usuario):\n",
    "    \n",
    "    if not ('nome') in usuario and not ('cpf') in usuario:\n",
    "        print('Nenhum dado encontrado!')\n",
    "    else:\n",
    "        if 'nome' in usuario:\n",
    "            print(usuario['nome'])\n",
    "        if 'cpf' in usuario:\n",
    "            print(usuario['cpf'])\n",
    "        print('-----')\n",
    "\n",
    "cadastro(nome = 'João', cpf = 123456789) # tem ambos\n",
    "cadastro(nome = 'José') # tem apenas nome\n",
    "cadastro(cpf = 987654321) # tem apenas cpf\n",
    "cadastro(rg = 192837465) # não tem nome nem cpf"
   ]
  },
  {
   "cell_type": "markdown",
   "metadata": {},
   "source": [
    "---\n",
    "### Questão 01\n",
    "-  **Crie uma função que recebe uma quantidade variável de argumentos numéricos e retorna a quantidade de números enviados e a soma deles;**"
   ]
  },
  {
   "cell_type": "code",
   "execution_count": 2,
   "metadata": {},
   "outputs": [
    {
     "name": "stdout",
     "output_type": "stream",
     "text": [
      "Quantidade de números: 5\n",
      "Soma dos números: 15\n"
     ]
    }
   ],
   "source": [
    "def soma_e_conta_numeros(*args):\n",
    "    quantidade = len(args)\n",
    "    soma = sum(args)\n",
    "    return quantidade, soma\n",
    "\n",
    "# Exemplo de uso da função\n",
    "resultado = soma_e_conta_numeros(1, 2, 3, 4, 5)\n",
    "print(\"Quantidade de números:\", resultado[0])\n",
    "print(\"Soma dos números:\", resultado[1])"
   ]
  },
  {
   "cell_type": "markdown",
   "metadata": {},
   "source": [
    "---\n",
    "### Questão 02\n",
    "**- Crie uma função que recebe nome e idade, porém a idade default deve ser 99;**"
   ]
  },
  {
   "cell_type": "code",
   "execution_count": null,
   "metadata": {},
   "outputs": [],
   "source": [
    "#Exercício 02\n",
    "def informacoes_pessoa(nome, idade=99):\n",
    "    return f\"Nome: {nome}, Idade: {idade}\"\n",
    "\n",
    "# Exemplo de uso da função com idade definida\n",
    "print(informacoes_pessoa(\"João\", 30))\n",
    "\n",
    "# Exemplo de uso da função sem idade definida (usa o valor padrão 99)\n",
    "print(informacoes_pessoa(\"Maria\"))"
   ]
  },
  {
   "cell_type": "markdown",
   "metadata": {},
   "source": [
    "---\n",
    "### Questão 03\n",
    "**- Crie uma função externa que deve calcular receber uma quantidade variável de números e chamar uma função interna que deve executar a soma destes números, por fim, a função externa retorna esta soma;**\n"
   ]
  },
  {
   "cell_type": "code",
   "execution_count": null,
   "metadata": {},
   "outputs": [],
   "source": [
    "#Exercício 03\n",
    "def calcular_soma(*args):\n",
    "    def soma(*nums):\n",
    "        return sum(nums)\n",
    "\n",
    "    resultado_soma = soma(*args)\n",
    "    return resultado_soma\n",
    "\n",
    "# Exemplo de uso da função externa\n",
    "print(calcular_soma(1, 2, 3, 4, 5))  # Deve retornar 15\n",
    "print(calcular_soma(10, 20, 30))    # Deve retornar 60\n",
    "print(calcular_soma(5, 10, 15, 20)) # Deve retornar 50"
   ]
  }
 ],
 "metadata": {
  "kernelspec": {
   "display_name": "Python 3",
   "language": "python",
   "name": "python3"
  },
  "language_info": {
   "codemirror_mode": {
    "name": "ipython",
    "version": 3
   },
   "file_extension": ".py",
   "mimetype": "text/x-python",
   "name": "python",
   "nbconvert_exporter": "python",
   "pygments_lexer": "ipython3",
   "version": "3.11.6"
  },
  "orig_nbformat": 4
 },
 "nbformat": 4,
 "nbformat_minor": 2
}
