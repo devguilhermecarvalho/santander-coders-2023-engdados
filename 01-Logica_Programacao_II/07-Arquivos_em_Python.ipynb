{
 "cells": [
  {
   "cell_type": "markdown",
   "metadata": {},
   "source": [
    "### **Arquivos em Python**\n",
    "---"
   ]
  },
  {
   "cell_type": "markdown",
   "metadata": {},
   "source": [
    "**Modo      |\tSímbolo |\tDescrição**\n",
    "\n",
    "- read  \t |  r\t    | lê um arquivo existente\n",
    "\n",
    "- write \t |  w\t    | cria um novo arquivo\n",
    "\n",
    "- append\t |  a\t    | abre um arquivo existente para adicionar informações ao seu final\n",
    "\n",
    "- update\t |  +\t    | ao ser combinado com outros modos, permite alteração de arquivo já existente (ex: r+ abre um arquivo existente e permite modificá-lo)"
   ]
  },
  {
   "cell_type": "code",
   "execution_count": 1,
   "metadata": {},
   "outputs": [],
   "source": [
    "# Escrevendo um arquivo\n",
    "\n",
    "arquivo = open('ola.txt', 'w') # cria um arquivo ola.txt\n",
    "arquivo.write('Olá mundo') # escreve \"Olá mundo\" no arquivo\n",
    "arquivo.close() # fecha e salva o arquivo"
   ]
  },
  {
   "cell_type": "code",
   "execution_count": null,
   "metadata": {},
   "outputs": [],
   "source": [
    "# Lendo arquivos\n",
    "\n",
    "arquivo = open('ola.txt', 'r') #abre o arquivo já existente\n",
    "conteudo = arquivo.read() #lê o conteúdo do arquivo e o salva na variável\n",
    "print(conteudo)\n",
    "arquivo.close()"
   ]
  },
  {
   "cell_type": "markdown",
   "metadata": {},
   "source": [
    "---\n",
    "### **Arquivos CSV**\n",
    "A sigla CSV significa Comma-Separated Values, ou \"valores separados por vírgula\". Este formato é uma forma padrão de representar tabelas usando arquivos de texto simples: cada elemento é separado por uma vírgula, e cada linha é separada por uma quebra de linha.\n",
    "- Tabelas em Python"
   ]
  },
  {
   "cell_type": "code",
   "execution_count": null,
   "metadata": {},
   "outputs": [],
   "source": [
    "tabela = [['Aluno', 'Nota 1', 'Nota 2', 'Presenças'],\n",
    "          ['Luke', 7, 9, 15],\n",
    "          ['Han', 4, 7, 10],\n",
    "          ['Leia', 9, 9, 16]]\n",
    "          \n",
    "print('Imprimindo cada elemento individual da tabela:')\n",
    "for linha in tabela:\n",
    "    for elemento in linha:\n",
    "        print(elemento)\n",
    "        \n",
    "print('Imprimindo cada \"linha\" da tabela:')\n",
    "for linha in tabela:\n",
    "    print(linha)\n",
    "        \n",
    "print('Imprimindo o elemento na linha 2, coluna 0:')\n",
    "print(tabela[2][0])"
   ]
  },
  {
   "cell_type": "code",
   "execution_count": null,
   "metadata": {},
   "outputs": [],
   "source": [
    "import csv\n",
    "\n",
    "tabela = [['Aluno', 'Nota 1', 'Nota 2', 'Presenças'],\n",
    "          ['Luke', 7, 9, 15],\n",
    "          ['Han', 4, 7, 10],\n",
    "          ['Leia', 9, 9, 16]]\n",
    "\n",
    "# cria o arquivo CSV\n",
    "arquivo = open('alunos.csv', 'w')\n",
    "\n",
    "# definindo as regras do nosso CSV:\n",
    "# ele será escrito no arquivo apontado pela variável 'arquivo'\n",
    "# seus elementos serão delimitados (delimiter) pelo símbolo ';'\n",
    "# suas linhas serão encerradas (lineterminator) por uma quebra de linha\n",
    "escritor = csv.writer(arquivo, delimiter=';', lineterminator='\\n')\n",
    "\n",
    "# escreve uma lista de listas em formato CSV:\n",
    "escritor.writerows(tabela)\n",
    "\n",
    "# fecha e salva o arquivo\n",
    "arquivo.close()"
   ]
  },
  {
   "cell_type": "code",
   "execution_count": null,
   "metadata": {},
   "outputs": [],
   "source": [
    "# Lendo um arquivo CSV\n",
    "\n",
    "import csv\n",
    "\n",
    "arquivo = open('alunos.csv', 'r')\n",
    "\n",
    "planilha = csv.reader(arquivo, delimiter=';', lineterminator='\\n')\n",
    "\n",
    "for linha in planilha:\n",
    "    print(linha)\n",
    "\n",
    "arquivo.close()"
   ]
  },
  {
   "cell_type": "code",
   "execution_count": null,
   "metadata": {},
   "outputs": [],
   "source": [
    "# Note que a estrutura não é uma lista, mas um objeto iterável. Vejamos o que acontece se tentarmos imprimi-lo diretamente:\n",
    "\n",
    "arquivo = open('alunos.csv', 'r')\n",
    "\n",
    "planilha = csv.reader(arquivo, delimiter=';', lineterminator='\\n')\n",
    "\n",
    "print(planilha)\n",
    "\n",
    "arquivo.close()"
   ]
  },
  {
   "cell_type": "code",
   "execution_count": null,
   "metadata": {},
   "outputs": [],
   "source": [
    "# Caso você precise de mais flexibilidade para trabalhar com a sua planilha - por exemplo, caso deseje editá-la, criar novas colunas etc, convém converter a estrutura para uma lista de verdade. É possível usar a função list no objeto para fazer a conversão:\n",
    "\n",
    "arquivo = open('alunos.csv', 'r')\n",
    "\n",
    "planilha = list(csv.reader(arquivo, delimiter=';', lineterminator='\\n'))\n",
    "\n",
    "arquivo.close()\n",
    "\n",
    "print(planilha)"
   ]
  },
  {
   "cell_type": "markdown",
   "metadata": {},
   "source": [
    "---\n",
    "### **Arquivos JSON**\n",
    "JSON é uma sigla para JavaScript Object Notation. O JavaScript é uma linguagem muito utilizada em web, e assim como o Python, ela é uma linguagem orientada a objeto. Ocorre que a forma como objetos são representados nessa linguagem é bastante legível para seres humanos e fácil de decompor usando programação também.\n",
    "\n",
    "O método loads recebe uma string contendo um JSON e retorna um dicionário, o que torna bastante fácil o acesso a informações individuais:"
   ]
  },
  {
   "cell_type": "code",
   "execution_count": null,
   "metadata": {},
   "outputs": [],
   "source": [
    "import json\n",
    "\n",
    "jogador = '{\"nome\":\"Mario\",\"pontuacao\":0}'\n",
    "\n",
    "dicionario = json.loads(jogador)\n",
    "\n",
    "print(dicionario['nome'])\n",
    "print(dicionario['pontuacao'])"
   ]
  },
  {
   "cell_type": "markdown",
   "metadata": {},
   "source": [
    "Já o método dumps recebe um dicionário e retorna uma string pronta para ser salva ou enviada como JSON:"
   ]
  },
  {
   "cell_type": "code",
   "execution_count": null,
   "metadata": {},
   "outputs": [],
   "source": [
    "import json\n",
    "\n",
    "jogador = dict()\n",
    "jogador['nome']  = 'Mario'\n",
    "jogador['pontuacao'] = 0\n",
    "\n",
    "string_json = json.dumps(jogador)\n",
    "\n",
    "print(string_json)"
   ]
  },
  {
   "cell_type": "markdown",
   "metadata": {},
   "source": [
    "O dumps possui um parâmetro opcional indent que recebe um número inteiro. Isso fará com que a string gerada seja indentada, e o valor desse parâmetro determinará quantos espaços irão ao início de cada \"nível\".\n",
    "\n",
    " Sabendo realizar a conversão de dicionário para string e vice-versa, basta utilizar as técnicas de manipulação de arquivo de texto para ler a string do arquivo JSON, convertê-la para dicionário, fazer as manipulações desejadas, converter novamente para string e escrever no arquivo."
   ]
  }
 ],
 "metadata": {
  "kernelspec": {
   "display_name": "Python 3",
   "language": "python",
   "name": "python3"
  },
  "language_info": {
   "codemirror_mode": {
    "name": "ipython",
    "version": 3
   },
   "file_extension": ".py",
   "mimetype": "text/x-python",
   "name": "python",
   "nbconvert_exporter": "python",
   "pygments_lexer": "ipython3",
   "version": "3.11.6"
  }
 },
 "nbformat": 4,
 "nbformat_minor": 2
}
