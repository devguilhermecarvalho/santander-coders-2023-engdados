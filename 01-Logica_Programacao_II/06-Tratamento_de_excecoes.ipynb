{
 "cells": [
  {
   "cell_type": "markdown",
   "metadata": {},
   "source": [
    "### **Tratamento de Exceção**\n",
    "---"
   ]
  },
  {
   "cell_type": "markdown",
   "metadata": {},
   "source": [
    "- **try/except**"
   ]
  },
  {
   "cell_type": "code",
   "execution_count": 1,
   "metadata": {},
   "outputs": [
    {
     "name": "stdout",
     "output_type": "stream",
     "text": [
      "Deu certo!\n",
      "1/3 = 0.3333333333333333\n",
      "Deu certo!\n",
      "1/2 = 0.5\n",
      "Deu certo!\n",
      "1/1 = 1.0\n",
      "1/0 = infinito\n"
     ]
    }
   ],
   "source": [
    "numerador = 1\n",
    "\n",
    "for denominador in range(3, -1, -1):\n",
    "    try:\n",
    "        divisao = numerador/denominador\n",
    "        print('Deu certo!') # roda APENAS se a linha acima não gerar exceção\n",
    "\n",
    "    except:\n",
    "        divisao = 'infinito'\n",
    "    \n",
    "    print(f'{numerador}/{denominador} = {divisao}')"
   ]
  },
  {
   "cell_type": "markdown",
   "metadata": {},
   "source": [
    "- **Podemos colocar diversos except após o try, cada um testando um tipo diferente de erro. Um último except genérico englobará todos os casos que não se encaixarem nos específicos. Veja o exemplo:**"
   ]
  },
  {
   "cell_type": "code",
   "execution_count": null,
   "metadata": {},
   "outputs": [],
   "source": [
    "def divisao(a, b):\n",
    "    return a/b\n",
    "\n",
    "denominadores = [0, 2, 3, 'a', 5]\n",
    "\n",
    "for d in denominadores:\n",
    "    try:\n",
    "        div = divisao(1, d)\n",
    "        \n",
    "    except ZeroDivisionError:\n",
    "        div = 'infinito'\n",
    "        \n",
    "    except TypeError:        \n",
    "        div = f'1/{d}'\n",
    "        \n",
    "    except:\n",
    "        div = 'erro desconhecido'\n",
    "    \n",
    "    print(f'1/{d} = {div}')"
   ]
  },
  {
   "cell_type": "markdown",
   "metadata": {},
   "source": [
    "- **enquanto o except é executado quando algo dá errado, o else só é executado se absolutamente nada der errado. Por exemplo, poderíamos atualizar nosso exemplo anterior utilizando um else:**"
   ]
  },
  {
   "cell_type": "code",
   "execution_count": null,
   "metadata": {},
   "outputs": [],
   "source": [
    "def divisao(a, b):\n",
    "    return a/b\n",
    "\n",
    "denominadores = [0, 2, 3, 'a', 5]\n",
    "\n",
    "for d in denominadores:\n",
    "    try:\n",
    "        div = divisao(1, d)\n",
    "        \n",
    "    except ZeroDivisionError:\n",
    "        print('infinito')\n",
    "        \n",
    "    except TypeError:        \n",
    "        print(f'1/{d}')\n",
    "        \n",
    "    except:\n",
    "        print('erro desconhecido')\n",
    "        \n",
    "    else:\n",
    "        print(f'1/{d} = {div}')"
   ]
  },
  {
   "cell_type": "markdown",
   "metadata": {},
   "source": [
    "### **finally**\n",
    "Muitas vezes um erro pode ocorrer quando já realizamos diversas operações. Dentre essas operações, podemos ter solicitado recursos, como por exemplo abrir um arquivo, estabelecer uma conexão com a internet ou alocar uma grande faixa de memória.\n",
    "\n",
    "O que aconteceria, por exemplo, se um comando como return aparecesse durante o tratamento deste erro após termos solicitado tantos recursos diferentes? O arquivo ficaria aberto, a conexão ficaria aberta, memória seria desperdiçada, etc.\n",
    "\n",
    "O finally garante um local seguro para colocarmos código de limpeza - ou seja, devolver recursos que não serão mais utilizados: fechar arquivos, fechar conexões com servidor etc.\n",
    "\n",
    "Ele sempre será executado após um bloco try/except, mesmo que haja um return no caminho.\n",
    "\n",
    "Veja o exemplo abaixo para entender o que queremos dizer:"
   ]
  },
  {
   "cell_type": "code",
   "execution_count": 2,
   "metadata": {},
   "outputs": [
    {
     "name": "stdout",
     "output_type": "stream",
     "text": [
      "Opa\n",
      "1.0\n",
      "Opa\n",
      "infinito\n"
     ]
    }
   ],
   "source": [
    "def teste(den):\n",
    "    try:\n",
    "        x = 1/den\n",
    "        return x\n",
    "    except:\n",
    "        return 'infinito'\n",
    "    finally:\n",
    "        print('Opa')\n",
    "\n",
    "print(teste(1))\n",
    "print(teste(0))"
   ]
  },
  {
   "cell_type": "markdown",
   "metadata": {},
   "source": [
    "Note que o conteúdo do bloco finally foi executado em ambas as chamadas, mesmo havendo um return dentro do try e outro dentro do except. Antes de sair da função e retornar o valor, o Python é obrigado a desviar a execução para o bloco finally e executar seu conteúdo."
   ]
  },
  {
   "cell_type": "code",
   "execution_count": 3,
   "metadata": {},
   "outputs": [
    {
     "name": "stdout",
     "output_type": "stream",
     "text": [
      "Fechando o arquivo teste1.txt\n",
      "O número 1.0 foi escrito no arquivo.\n",
      "Fechando o arquivo teste2.txt\n",
      "Divisão por zero, não escrevemos no arquivo.\n"
     ]
    }
   ],
   "source": [
    "def escreve_arquivo(nome_do_arquivo, denominador):\n",
    "    try:\n",
    "        arq = open(nome_do_arquivo, 'w') #abre o arquivo\n",
    "        \n",
    "        try:\n",
    "            div = 1/denominador\n",
    "            arq.write(str(div)) #escreve no arquivo\n",
    "            return f'O número {div} foi escrito no arquivo.'\n",
    "        \n",
    "        except ZeroDivisionError:\n",
    "            return 'Divisão por zero, não escrevemos no arquivo.'\n",
    "\n",
    "        except TypeError:        \n",
    "            return 'Tipo inválido, não escreveremos no arquivo.'\n",
    "\n",
    "        except:\n",
    "            return 'Erro desconhecido, não escreveremos no arquivo.'\n",
    "        \n",
    "        finally:\n",
    "            print(f'Fechando o arquivo {nome_do_arquivo}')\n",
    "            arq.close() # o arquivo SEMPRE será fechado, mesmo que ocorra erro!\n",
    "            \n",
    "    \n",
    "    except:\n",
    "        return 'Não foi possível abrir o arquivo'\n",
    "    \n",
    "    \n",
    "print(escreve_arquivo('teste1.txt', 1))\n",
    "print(escreve_arquivo('teste2.txt', 0))"
   ]
  },
  {
   "cell_type": "markdown",
   "metadata": {},
   "source": [
    "---\n",
    "### **Levantando exceções**"
   ]
  },
  {
   "cell_type": "markdown",
   "metadata": {},
   "source": [
    "Podemos utilizar a palavra raise seguida de Exception(), passando entre parênteses a mensagem personalizada de erro. Veja o exemplo:"
   ]
  },
  {
   "cell_type": "code",
   "execution_count": null,
   "metadata": {},
   "outputs": [],
   "source": [
    "salarios = []\n",
    "\n",
    "def cadastrar_salario(salario):\n",
    "    if salario <= 0:\n",
    "        raise Exception('Salário inválido! Salários devem ser positivos!')\n",
    "    \n",
    "    salarios.append(salario)\n",
    "    \n",
    "cadastrar_salario(10)\n",
    "cadastrar_salario(0)"
   ]
  },
  {
   "cell_type": "code",
   "execution_count": null,
   "metadata": {},
   "outputs": [],
   "source": [
    "salarios = []\n",
    "\n",
    "def cadastrar_salario(salario):\n",
    "    if salario <= 0:\n",
    "        raise Exception('Salário inválido! Salários devem ser positivos!')\n",
    "    \n",
    "    salarios.append(salario)\n",
    "    \n",
    "for i in range(3):\n",
    "    salario = float(input('Digite o salário do funcionário: '))\n",
    "    \n",
    "    try:\n",
    "        cadastrar_salario(salario)\n",
    "    except:\n",
    "        print('Opa, salário inválido!')\n",
    "        \n",
    "print(salarios)"
   ]
  },
  {
   "cell_type": "markdown",
   "metadata": {},
   "source": [
    "---\n",
    "### **Herdando de Exception**"
   ]
  },
  {
   "cell_type": "code",
   "execution_count": null,
   "metadata": {},
   "outputs": [],
   "source": [
    "class SalarioInvalido(Exception):\n",
    "    def __init__(self, message = 'Salários devem ser positivos!'):\n",
    "        self.message = message\n",
    "        super().__init__(self.message)\n",
    "\n",
    "salarios = []\n",
    "\n",
    "def cadastrar_salario(salario):\n",
    "    if salario <= 0:\n",
    "        raise SalarioInvalido()\n",
    "    \n",
    "    salarios.append(salario)\n",
    "    \n",
    "for i in range(3):\n",
    "    salario = float(input('Digite o salário do funcionário: '))\n",
    "    \n",
    "    try:\n",
    "        cadastrar_salario(salario)\n",
    "    except SalarioInvalido:\n",
    "        print('Nosso RH é uma vergonha :(')\n",
    "    except:\n",
    "        print('Exceção genérica')\n",
    "        \n",
    "print(salarios)"
   ]
  }
 ],
 "metadata": {
  "kernelspec": {
   "display_name": "Python 3",
   "language": "python",
   "name": "python3"
  },
  "language_info": {
   "codemirror_mode": {
    "name": "ipython",
    "version": 3
   },
   "file_extension": ".py",
   "mimetype": "text/x-python",
   "name": "python",
   "nbconvert_exporter": "python",
   "pygments_lexer": "ipython3",
   "version": "3.11.6"
  }
 },
 "nbformat": 4,
 "nbformat_minor": 2
}
