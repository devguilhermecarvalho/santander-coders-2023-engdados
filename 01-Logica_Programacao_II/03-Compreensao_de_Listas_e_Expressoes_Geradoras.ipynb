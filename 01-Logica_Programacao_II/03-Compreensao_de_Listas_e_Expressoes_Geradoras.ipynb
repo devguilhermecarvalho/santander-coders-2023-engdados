{
 "cells": [
  {
   "cell_type": "markdown",
   "metadata": {},
   "source": [
    "### **Compreensão de Listas e Expressões Geradoras**\n",
    "---"
   ]
  },
  {
   "cell_type": "code",
   "execution_count": null,
   "metadata": {},
   "outputs": [],
   "source": [
    "# Código sem a Compreesão de listas\n",
    "quadrados = []\n",
    "\n",
    "for x in range(1, 11):\n",
    "    quadrados.append(x**2)\n",
    "\n",
    "print(quadrados)\n",
    "print(x)"
   ]
  },
  {
   "cell_type": "code",
   "execution_count": null,
   "metadata": {},
   "outputs": [],
   "source": [
    "# Código com a Compreesão de listas\n",
    "quadrados_compreensao = [num**2 for num in range(1, 11)]\n",
    "\n",
    "print(quadrados_compreensao)"
   ]
  },
  {
   "cell_type": "code",
   "execution_count": null,
   "metadata": {},
   "outputs": [],
   "source": [
    "# Outro exemplo de uso\n",
    "numeros = [1, 9, 4, 7, 6, 2]\n",
    "\n",
    "metades = [n/2 for n in numeros]\n",
    "\n",
    "print(metades)"
   ]
  },
  {
   "cell_type": "code",
   "execution_count": null,
   "metadata": {},
   "outputs": [],
   "source": [
    "metades_pares = [n/2 for n in numeros if n % 2 == 0]\n",
    "print(metades_pares)"
   ]
  },
  {
   "cell_type": "code",
   "execution_count": null,
   "metadata": {},
   "outputs": [],
   "source": [
    "# Aninhando compreensões\n",
    "nomes = ['Ana', 'Bruno', 'Carla', 'Daniel', 'Emília']\n",
    "sobrenomes = ['Silva', 'Oliveira']\n",
    "\n",
    "combinacoes = [nome + ' ' + sobrenome for nome in nomes for sobrenome in sobrenomes]\n",
    "print(combinacoes)"
   ]
  },
  {
   "cell_type": "code",
   "execution_count": null,
   "metadata": {},
   "outputs": [],
   "source": [
    "# O Código acima equivale à\n",
    "combinacoes = []\n",
    "\n",
    "for nome in nomes:\n",
    "    for sobrenome in sobrenomes:\n",
    "        combinacoes.append(nome + ' ' + sobrenome)"
   ]
  },
  {
   "cell_type": "code",
   "execution_count": null,
   "metadata": {},
   "outputs": [],
   "source": [
    "times = ['Atlético Python', 'JavaScript United', 'C Seniors', 'Javeiros do Norte']\n",
    "entradas = ['V', 'E', 'D']\n",
    "\n",
    "tabela = [[int(input(f'Digite a quantidade de {tipo} do time {time}: ')) for tipo in entradas] for time in times]\n",
    "\n",
    "print(tabela)"
   ]
  },
  {
   "cell_type": "markdown",
   "metadata": {},
   "source": [
    "### **Compreensão de dicionários**\n",
    "---"
   ]
  },
  {
   "cell_type": "code",
   "execution_count": null,
   "metadata": {},
   "outputs": [],
   "source": [
    "alunos = ['Ana', 'Bruno', 'Carla', 'Daniel', 'Emília']\n",
    "medias = [9.0, 8.0, 8.0, 6.5, 7.0]\n",
    "\n",
    "cadastro = {aluno:media for aluno, media in zip(alunos, medias)}\n",
    "\n",
    "print(cadastro)"
   ]
  },
  {
   "cell_type": "code",
   "execution_count": null,
   "metadata": {},
   "outputs": [],
   "source": [
    "cidades = {'New York': ['Manhattan', 'Brooklyn'], 'San Francisco': ['Downtown', 'Chinatown']}\n",
    "bairros = {cidade: {bairro: len(bairro) for bairro in bairros} for cidade, bairros in cidades.items()}\n",
    "\n",
    "print(bairros)"
   ]
  },
  {
   "cell_type": "markdown",
   "metadata": {},
   "source": [
    "### **Expressões geradoras**\n",
    "---"
   ]
  },
  {
   "cell_type": "code",
   "execution_count": null,
   "metadata": {},
   "outputs": [],
   "source": [
    "# Quando colocamos uma expressão semelhante a uma compreensão de lista entre parênteses, estamos criando uma expressão geradora. \n",
    "\n",
    "gerador_quadrados = (x**2 for x in range(10))\n",
    "\n",
    "for quadrado in gerador_quadrados:\n",
    "    print(quadrado)"
   ]
  },
  {
   "cell_type": "code",
   "execution_count": null,
   "metadata": {},
   "outputs": [],
   "source": [
    "# Iteráveis e iteradores\n",
    "lista = [1, 3, 5]\n",
    "\n",
    "iterador = iter(lista)\n",
    "\n",
    "print(iterador)\n",
    "\n",
    "print(next(iterador))\n",
    "print(next(iterador))\n",
    "print(next(iterador))"
   ]
  },
  {
   "cell_type": "markdown",
   "metadata": {},
   "source": [
    "### **Funções Geradoras**\n",
    "---"
   ]
  },
  {
   "cell_type": "code",
   "execution_count": null,
   "metadata": {},
   "outputs": [],
   "source": [
    "def funcao_geradora():\n",
    "    yield 1\n",
    "    yield 3\n",
    "    yield 5\n",
    "\n",
    "meu_gerador = funcao_geradora()\n",
    "\n",
    "print(next(meu_gerador))\n",
    "print(next(meu_gerador))\n",
    "print(next(meu_gerador))"
   ]
  },
  {
   "cell_type": "code",
   "execution_count": null,
   "metadata": {},
   "outputs": [],
   "source": [
    "def gerador_de_sequencia(limite:int):\n",
    "    contador = 0\n",
    "    while contador < limite:\n",
    "        yield contador\n",
    "        contador += 1\n",
    "\n",
    "iterador_sequencia = gerador_de_sequencia(10)\n",
    "\n",
    "for x in iterador_sequencia:\n",
    "    print(x)"
   ]
  }
 ],
 "metadata": {
  "kernelspec": {
   "display_name": "Python 3",
   "language": "python",
   "name": "python3"
  },
  "language_info": {
   "codemirror_mode": {
    "name": "ipython",
    "version": 3
   },
   "file_extension": ".py",
   "mimetype": "text/x-python",
   "name": "python",
   "nbconvert_exporter": "python",
   "pygments_lexer": "ipython3",
   "version": "3.11.6"
  },
  "orig_nbformat": 4
 },
 "nbformat": 4,
 "nbformat_minor": 2
}
