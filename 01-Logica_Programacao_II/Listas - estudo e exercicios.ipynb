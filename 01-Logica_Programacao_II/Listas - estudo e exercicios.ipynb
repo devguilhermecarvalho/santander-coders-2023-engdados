{
 "cells": [
  {
   "cell_type": "markdown",
   "metadata": {},
   "source": [
    "<p>Trabalhando com Listas <br>\n",
    "Exercícios aula 01<br>\n",
    "Data: 12/07/2023\n",
    "</p>"
   ]
  },
  {
   "cell_type": "code",
   "execution_count": null,
   "metadata": {},
   "outputs": [],
   "source": [
    "#Estudos e Exercícios sobre listas\n",
    "#Criando listas\n",
    "\n",
    "lista1 = list()\n",
    "lista2 = []\n",
    "\n",
    "linguagens = ['Python', 'JavaScript', 'SQL']\n",
    "tiposVariados = [3.14, 1000, True, 'Maça']\n",
    "\n",
    "listaDeListas = [['Curso',['Módulo 1', 'Módulo 2']] ['Data Science', 'Lógica de Programação I', 'Lógica de Programação II']]\n",
    "\n",
    "listaDeListas1 = [0][1][1]\n",
    "print(listaDeListas1)\n",
    "\n",
    "for indice in range(4):\n",
    "    print(tiposVariados[indice])"
   ]
  },
  {
   "cell_type": "code",
   "execution_count": null,
   "metadata": {},
   "outputs": [],
   "source": [
    "#Exercício 01\n",
    "#Montagem de uma lista simples\n",
    "comidas = ('pizza', 'hamburguer', 'coxinha', 'feijoada', 'bife com batata frita')\n",
    "precos  = ('50', '30', '6', '20', '18')\n",
    "\n",
    "for comida, preco in zip(comidas, precos):\n",
    "    print(f'Comida: {comida}\\nPreço: {preco}')\n",
    "    print('------------------')"
   ]
  },
  {
   "cell_type": "code",
   "execution_count": null,
   "metadata": {},
   "outputs": [],
   "source": [
    "comidas = ('pizza', 'hamburguer', 'coxinha', 'feijoada', 'bife com batata frita')\n",
    "precos  = ('50', '30', '6', '20', '18')\n",
    "\n",
    "#Sem o primeiro e o último item da lista\n",
    "for comida, preco in zip(comidas[1:-1], precos[1:-1]):\n",
    "    print(f'Comida: {comida}\\nPreço: {preco}')\n",
    "    print('------------------')"
   ]
  },
  {
   "cell_type": "code",
   "execution_count": 2,
   "metadata": {},
   "outputs": [
    {
     "name": "stdout",
     "output_type": "stream",
     "text": [
      "Comida: bife com batata frita\n",
      "Preço: R$18\n",
      "------------------\n",
      "Comida: feijoada\n",
      "Preço: R$20\n",
      "------------------\n",
      "Comida: coxinha\n",
      "Preço: R$6\n",
      "------------------\n",
      "Comida: hamburguer\n",
      "Preço: R$30\n",
      "------------------\n",
      "Comida: pizza\n",
      "Preço: R$50\n",
      "------------------\n",
      "[('pizza', '50'), ('hamburguer', '30'), ('coxinha', '6'), ('feijoada', '20'), ('bife com batata frita', '18')]\n"
     ]
    }
   ],
   "source": [
    "comidas = ('pizza', 'hamburguer', 'coxinha', 'feijoada', 'bife com batata frita')\n",
    "precos  = ('50', '30', '6', '20', '18')\n",
    "\n",
    "#Exibindo a lista de trás para frente\n",
    "for comida, preco in zip(comidas[::-1], precos[::-1]):\n",
    "    print(f'Comida: {comida}\\nPreço: R${preco}')\n",
    "    print('------------------')\n",
    "\n",
    "#Exibindo todos os itens das listas alinhados\n",
    "print(list(zip(comidas, precos)))"
   ]
  }
 ],
 "metadata": {
  "kernelspec": {
   "display_name": "Python 3",
   "language": "python",
   "name": "python3"
  },
  "language_info": {
   "codemirror_mode": {
    "name": "ipython",
    "version": 3
   },
   "file_extension": ".py",
   "mimetype": "text/x-python",
   "name": "python",
   "nbconvert_exporter": "python",
   "pygments_lexer": "ipython3",
   "version": "3.11.3"
  },
  "orig_nbformat": 4
 },
 "nbformat": 4,
 "nbformat_minor": 2
}
