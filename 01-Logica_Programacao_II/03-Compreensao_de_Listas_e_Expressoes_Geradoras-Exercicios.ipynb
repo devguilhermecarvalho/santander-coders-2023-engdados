{
 "cells": [
  {
   "cell_type": "markdown",
   "metadata": {},
   "source": [
    "---\n",
    "### Questão 01\n",
    "**- Coloque em uma lista todos os números entre 1 e 1000 que sejam divisiveis por N, sendo N um número recebido no standard input;**"
   ]
  },
  {
   "cell_type": "code",
   "execution_count": 32,
   "metadata": {},
   "outputs": [
    {
     "name": "stdout",
     "output_type": "stream",
     "text": [
      "[9, 18, 27, 36, 45, 54, 63, 72, 81, 90, 99, 108, 117, 126, 135, 144, 153, 162, 171, 180, 189, 198, 207, 216, 225, 234, 243, 252, 261, 270, 279, 288, 297, 306, 315, 324, 333, 342, 351, 360, 369, 378, 387, 396, 405, 414, 423, 432, 441, 450, 459, 468, 477, 486, 495, 504, 513, 522, 531, 540, 549, 558, 567, 576, 585, 594, 603, 612, 621, 630, 639, 648, 657, 666, 675, 684, 693, 702, 711, 720, 729, 738, 747, 756, 765, 774, 783, 792, 801, 810, 819, 828, 837, 846, 855, 864, 873, 882, 891, 900, 909, 918, 927, 936, 945, 954, 963, 972, 981, 990, 999]\n"
     ]
    }
   ],
   "source": [
    "# Exercicio 01\n",
    "numero = int(input(\"\"))\n",
    "lista = [n for n in range(1, 1001) if n % numero == 0]\n",
    "print(lista)"
   ]
  },
  {
   "cell_type": "markdown",
   "metadata": {},
   "source": [
    "---\n",
    "### Questão 02\n",
    "**- Coloque em uma lista todos os números entre 1 e 1000 que possuam um dígito N em sua composição, sendo N um número recebido no standard input;**"
   ]
  },
  {
   "cell_type": "code",
   "execution_count": 31,
   "metadata": {},
   "outputs": [
    {
     "name": "stdout",
     "output_type": "stream",
     "text": [
      "[3, 33, 333]\n"
     ]
    }
   ],
   "source": [
    "\n",
    "numero = input(\"\")\n",
    "lista = [n for n in range(1, 1001) if str(n) in str(numero)]\n",
    "print(lista)"
   ]
  },
  {
   "cell_type": "markdown",
   "metadata": {},
   "source": [
    "---\n",
    "### Questão 03\n",
    "**- Conte o número de espaços em branco em uma string recebida pelo standard input;**"
   ]
  },
  {
   "cell_type": "code",
   "execution_count": 28,
   "metadata": {},
   "outputs": [
    {
     "name": "stdout",
     "output_type": "stream",
     "text": [
      "7\n"
     ]
    }
   ],
   "source": [
    "texto = str(input(\"\"))\n",
    "contador = [espaco for espaco in texto if espaco == \" \"]\n",
    "\n",
    "print(len(contador))"
   ]
  },
  {
   "cell_type": "markdown",
   "metadata": {},
   "source": [
    "---\n",
    "### Questão 04\n",
    "\n",
    "**- Crie uma lista com todas as consoantes em uma frase (de pelo menos 10 palavras) recebidas pelo standard input;**"
   ]
  },
  {
   "cell_type": "code",
   "execution_count": 24,
   "metadata": {},
   "outputs": [
    {
     "name": "stdout",
     "output_type": "stream",
     "text": [
      "Essas são as consoantes: 5\n"
     ]
    }
   ],
   "source": [
    "\n",
    "texto = str(input(\"\"))\n",
    "vogais = [\"a\", \"e\", \"i\", \"o\", \"u\", \" \"]\n",
    "lista_consoantes = [consoantes for consoantes in texto if consoantes not in vogais]\n",
    "consoantes_string = \"\".join(lista_consoantes)\n",
    "\n",
    "print(f\"Essas são as consoantes: {consoantes_string}\")"
   ]
  },
  {
   "cell_type": "markdown",
   "metadata": {},
   "source": [
    "---\n",
    "### Questão 05\n",
    "**- Pegue o índice e o valor, na forma de tupla, para os itens na lista: ['oi', 4, 8.99, 'mamao', ('t,b', 'n')].**\n",
    "**O resultado seria semelhante a (indice, valor), (indice, valor);**"
   ]
  },
  {
   "cell_type": "code",
   "execution_count": 23,
   "metadata": {},
   "outputs": [
    {
     "name": "stdout",
     "output_type": "stream",
     "text": [
      "(0, oi), (1, 4), (2, 8.99), (3, mamao), (4, ('t,b', 'n'))\n"
     ]
    }
   ],
   "source": [
    "minha_lista = ['oi', 4, 8.99, 'mamao', ('t,b', 'n')]\n",
    "\n",
    "# Usando enumerate para obter o índice e o valor de cada item na lista\n",
    "tuplas = [(indice, valor) for indice, valor in enumerate(minha_lista)]\n",
    "\n",
    "# Convertendo a lista de tuplas em uma string formatada\n",
    "resultado = ', '.join([f'({indice}, {valor})' for indice, valor in tuplas])\n",
    "\n",
    "print(resultado)"
   ]
  },
  {
   "cell_type": "markdown",
   "metadata": {},
   "source": [
    "---\n",
    "### Questão 06\n",
    "**- Encontre os números em comum em duas listas (sem utilizar \"tupla\" ou \"set\"), sendo ambas as listas recebidas pelo standard input e com, pelo menos, 5 valores em cada;**\n"
   ]
  },
  {
   "cell_type": "code",
   "execution_count": 26,
   "metadata": {},
   "outputs": [
    {
     "name": "stdout",
     "output_type": "stream",
     "text": [
      "Números em comum nas duas listas: ['1', '3', '6', '8', '54', '6', '5']\n"
     ]
    }
   ],
   "source": [
    "lista1 = input(\"Digite a primeira lista separada por espaços: \").split()\n",
    "\n",
    "lista2 = input(\"Digite a segunda lista separada por espaços: \").split()\n",
    "\n",
    "numeros_em_comum = []\n",
    "\n",
    "for elemento1 in lista1:\n",
    "    if elemento1 in lista2:\n",
    "        numeros_em_comum.append(elemento1)\n",
    "\n",
    "# Imprima os números em comum\n",
    "print(\"Números em comum nas duas listas:\", numeros_em_comum)"
   ]
  },
  {
   "cell_type": "markdown",
   "metadata": {},
   "source": [
    "---\n",
    "### Questão 07\n",
    "**- Receba uma frase pelo standard input e salve apenas os números encontrados nesta frase em uma lista;**"
   ]
  },
  {
   "cell_type": "code",
   "execution_count": 27,
   "metadata": {},
   "outputs": [
    {
     "name": "stdout",
     "output_type": "stream",
     "text": [
      "Números encontrados na frase: [2, 23, 151]\n"
     ]
    }
   ],
   "source": [
    "\n",
    "frase = input(\"Digite uma frase: \")\n",
    "\n",
    "palavras = frase.split()\n",
    "\n",
    "numeros = []\n",
    "\n",
    "for palavra in palavras:\n",
    "    if palavra.isnumeric():\n",
    "        numeros.append(int(palavra))\n",
    "    elif palavra.replace(\".\", \"\", 1).isnumeric():\n",
    "        numeros.append(float(palavra))\n",
    "\n",
    "print(\"Números encontrados na frase:\", numeros)"
   ]
  },
  {
   "cell_type": "markdown",
   "metadata": {},
   "source": [
    "---\n",
    "### Questão 08\n",
    "**- Dado o seguinte iterável: numeros = range(20), produza uma lista contendo as palavras 'par' e 'impar' caso o número daquela posição seja par/impar. Teremos, ao final, uma segunda lista com ['impar', 'par', 'par', 'impar', etc];**"
   ]
  },
  {
   "cell_type": "code",
   "execution_count": 20,
   "metadata": {},
   "outputs": [
    {
     "name": "stdout",
     "output_type": "stream",
     "text": [
      "['impar', 'par', 'impar', 'par', 'impar', 'par', 'impar', 'par', 'impar', 'par', 'impar', 'par', 'impar', 'par', 'impar', 'par', 'impar', 'par', 'impar', 'par']\n"
     ]
    }
   ],
   "source": [
    "resultado = ['par' if n % 2 ==0 else 'impar' for n in range(1, 21)]\n",
    "print(resultado)"
   ]
  },
  {
   "cell_type": "markdown",
   "metadata": {},
   "source": [
    "---\n",
    "### Questão 09\n",
    "**- Construa uma lista de tuplas que tenha apenas os números em comum entre duas listas, sendo: lista1 = [1, 2, 3, 4, 5, 6, 7, 8, 9] e lista2 = [2, 7, 1, 12] e o resultado deve ser algo do tipo: [(1,1), (2,2), etc];**"
   ]
  },
  {
   "cell_type": "code",
   "execution_count": 19,
   "metadata": {},
   "outputs": [
    {
     "name": "stdout",
     "output_type": "stream",
     "text": [
      "[(1, 1), (2, 2), (7, 7)]\n"
     ]
    }
   ],
   "source": [
    "\n",
    "lista1 = [1, 2, 3, 4, 5, 6, 7, 8, 9]\n",
    "lista2 = [2, 7, 1, 12]\n",
    "\n",
    "resultado =[(a, b) for a in lista1 for b in lista2 if a == b]\n",
    "print(resultado)"
   ]
  },
  {
   "cell_type": "markdown",
   "metadata": {},
   "source": [
    "---\n",
    "### Exercicio 10\n",
    "**- Encontre todas as palavras em uma string, que contenham menos de 4 letras;**\n"
   ]
  },
  {
   "cell_type": "code",
   "execution_count": 18,
   "metadata": {},
   "outputs": [
    {
     "name": "stdout",
     "output_type": "stream",
     "text": [
      "Palavras com menos de 4 letras: ['é', 'uma', 'de', 'com', 'e']\n"
     ]
    }
   ],
   "source": [
    "texto = \"Esta é uma frase de exemplo com palavras curtas como 'a', 'de' e 'em'.\"\n",
    "palavras_curtas = [palavra for palavra in texto.split() if len(palavra) < 4]\n",
    "\n",
    "print(\"Palavras com menos de 4 letras:\", palavras_curtas)"
   ]
  },
  {
   "cell_type": "markdown",
   "metadata": {},
   "source": [
    "---\n",
    "### Questão 11\n",
    "**Use uma compreensão de lista aninhada para encontrar todos os números entre 1-1000 que sejam divisiveis por algum número entre 2-9.**"
   ]
  },
  {
   "cell_type": "code",
   "execution_count": 17,
   "metadata": {},
   "outputs": [
    {
     "name": "stdout",
     "output_type": "stream",
     "text": [
      "Números divisíveis por algum número entre 2 e 9: [2, 3, 4, 5, 6, 7, 8, 9, 10, 12, 14, 15, 16, 18, 20, 21, 22, 24, 25, 26, 27, 28, 30, 32, 33, 34, 35, 36, 38, 39, 40, 42, 44, 45, 46, 48, 49, 50, 51, 52, 54, 55, 56, 57, 58, 60, 62, 63, 64, 65, 66, 68, 69, 70, 72, 74, 75, 76, 77, 78, 80, 81, 82, 84, 85, 86, 87, 88, 90, 91, 92, 93, 94, 95, 96, 98, 99, 100, 102, 104, 105, 106, 108, 110, 111, 112, 114, 115, 116, 117, 118, 119, 120, 122, 123, 124, 125, 126, 128, 129, 130, 132, 133, 134, 135, 136, 138, 140, 141, 142, 144, 145, 146, 147, 148, 150, 152, 153, 154, 155, 156, 158, 159, 160, 161, 162, 164, 165, 166, 168, 170, 171, 172, 174, 175, 176, 177, 178, 180, 182, 183, 184, 185, 186, 188, 189, 190, 192, 194, 195, 196, 198, 200, 201, 202, 203, 204, 205, 206, 207, 208, 210, 212, 213, 214, 215, 216, 217, 218, 219, 220, 222, 224, 225, 226, 228, 230, 231, 232, 234, 235, 236, 237, 238, 240, 242, 243, 244, 245, 246, 248, 249, 250, 252, 254, 255, 256, 258, 259, 260, 261, 262, 264, 265, 266, 267, 268, 270, 272, 273, 274, 275, 276, 278, 279, 280, 282, 284, 285, 286, 287, 288, 290, 291, 292, 294, 295, 296, 297, 298, 300, 301, 302, 303, 304, 305, 306, 308, 309, 310, 312, 314, 315, 316, 318, 320, 321, 322, 324, 325, 326, 327, 328, 329, 330, 332, 333, 334, 335, 336, 338, 339, 340, 342, 343, 344, 345, 346, 348, 350, 351, 352, 354, 355, 356, 357, 358, 360, 362, 363, 364, 365, 366, 368, 369, 370, 371, 372, 374, 375, 376, 378, 380, 381, 382, 384, 385, 386, 387, 388, 390, 392, 393, 394, 395, 396, 398, 399, 400, 402, 404, 405, 406, 408, 410, 411, 412, 413, 414, 415, 416, 417, 418, 420, 422, 423, 424, 425, 426, 427, 428, 429, 430, 432, 434, 435, 436, 438, 440, 441, 442, 444, 445, 446, 447, 448, 450, 452, 453, 454, 455, 456, 458, 459, 460, 462, 464, 465, 466, 468, 469, 470, 471, 472, 474, 475, 476, 477, 478, 480, 482, 483, 484, 485, 486, 488, 489, 490, 492, 494, 495, 496, 497, 498, 500, 501, 502, 504, 505, 506, 507, 508, 510, 511, 512, 513, 514, 515, 516, 518, 519, 520, 522, 524, 525, 526, 528, 530, 531, 532, 534, 535, 536, 537, 538, 539, 540, 542, 543, 544, 545, 546, 548, 549, 550, 552, 553, 554, 555, 556, 558, 560, 561, 562, 564, 565, 566, 567, 568, 570, 572, 573, 574, 575, 576, 578, 579, 580, 581, 582, 584, 585, 586, 588, 590, 591, 592, 594, 595, 596, 597, 598, 600, 602, 603, 604, 605, 606, 608, 609, 610, 612, 614, 615, 616, 618, 620, 621, 622, 623, 624, 625, 626, 627, 628, 630, 632, 633, 634, 635, 636, 637, 638, 639, 640, 642, 644, 645, 646, 648, 650, 651, 652, 654, 655, 656, 657, 658, 660, 662, 663, 664, 665, 666, 668, 669, 670, 672, 674, 675, 676, 678, 679, 680, 681, 682, 684, 685, 686, 687, 688, 690, 692, 693, 694, 695, 696, 698, 699, 700, 702, 704, 705, 706, 707, 708, 710, 711, 712, 714, 715, 716, 717, 718, 720, 721, 722, 723, 724, 725, 726, 728, 729, 730, 732, 734, 735, 736, 738, 740, 741, 742, 744, 745, 746, 747, 748, 749, 750, 752, 753, 754, 755, 756, 758, 759, 760, 762, 763, 764, 765, 766, 768, 770, 771, 772, 774, 775, 776, 777, 778, 780, 782, 783, 784, 785, 786, 788, 789, 790, 791, 792, 794, 795, 796, 798, 800, 801, 802, 804, 805, 806, 807, 808, 810, 812, 813, 814, 815, 816, 818, 819, 820, 822, 824, 825, 826, 828, 830, 831, 832, 833, 834, 835, 836, 837, 838, 840, 842, 843, 844, 845, 846, 847, 848, 849, 850, 852, 854, 855, 856, 858, 860, 861, 862, 864, 865, 866, 867, 868, 870, 872, 873, 874, 875, 876, 878, 879, 880, 882, 884, 885, 886, 888, 889, 890, 891, 892, 894, 895, 896, 897, 898, 900, 902, 903, 904, 905, 906, 908, 909, 910, 912, 914, 915, 916, 917, 918, 920, 921, 922, 924, 925, 926, 927, 928, 930, 931, 932, 933, 934, 935, 936, 938, 939, 940, 942, 944, 945, 946, 948, 950, 951, 952, 954, 955, 956, 957, 958, 959, 960, 962, 963, 964, 965, 966, 968, 969, 970, 972, 973, 974, 975, 976, 978, 980, 981, 982, 984, 985, 986, 987, 988, 990, 992, 993, 994, 995, 996, 998, 999, 1000]\n"
     ]
    }
   ],
   "source": [
    "numeros_divisiveis = [numero for numero in range(1, 1001) if any(numero % divisor == 0 for divisor in range(2, 10))]\n",
    "\n",
    "print(\"Números divisíveis por algum número entre 2 e 9:\", numeros_divisiveis)"
   ]
  }
 ],
 "metadata": {
  "kernelspec": {
   "display_name": "Python 3",
   "language": "python",
   "name": "python3"
  },
  "language_info": {
   "codemirror_mode": {
    "name": "ipython",
    "version": 3
   },
   "file_extension": ".py",
   "mimetype": "text/x-python",
   "name": "python",
   "nbconvert_exporter": "python",
   "pygments_lexer": "ipython3",
   "version": "3.11.6"
  },
  "orig_nbformat": 4
 },
 "nbformat": 4,
 "nbformat_minor": 2
}
