{
 "cells": [
  {
   "cell_type": "markdown",
   "metadata": {},
   "source": [
    "### **Listas e Tuplas**\n",
    "\n",
    "---"
   ]
  },
  {
   "cell_type": "code",
   "execution_count": null,
   "metadata": {},
   "outputs": [],
   "source": [
    "lista1 = list() # lista vazia\n",
    "lista2 = [] # lista vazia\n",
    "\n",
    "linguagens = ['Python', 'JavaScript', 'SQL']\n",
    "tiposVariados = [3.14, 1000, True, 'Maça']\n",
    "\n",
    "listaDeListas = [['Curso',['Módulo 1', 'Módulo 2']],['Data Science', 'Lógica de Programação I', 'Lógica de Programação II']]\n",
    "\n",
    "listaDeListas1 = listaDeListas[0][1][1]\n",
    "print(f'Resultado: {listaDeListas1}\\n')\n",
    "\n",
    "for indice in range(4):\n",
    "    print(f'Percorrendo todos os itens da lista: {tiposVariados[indice]}')"
   ]
  },
  {
   "cell_type": "code",
   "execution_count": null,
   "metadata": {},
   "outputs": [],
   "source": [
    "# Exercício 01 - Montagem de uma lista simples\n",
    "\n",
    "comidas = ('pizza', 'hamburguer', 'coxinha', 'feijoada', 'bife com batata frita')\n",
    "precos  = ('50', '30', '6', '20', '18')\n",
    "\n",
    "for comida, preco in zip(comidas, precos):\n",
    "    print(f'Comida: {comida}\\nPreço: {preco}')\n",
    "    print('------------------')"
   ]
  },
  {
   "cell_type": "code",
   "execution_count": null,
   "metadata": {},
   "outputs": [],
   "source": [
    "# Slicing de listas \n",
    "frutas = ['abacate', 'banana', 'carambola', 'damasco', 'embaúba', 'framboesa', 'goiaba']\n",
    "\n",
    "algumas_frutas = frutas[2:5]\n",
    "print(algumas_frutas)\n",
    "\n",
    "primeiras3 = frutas[:3]\n",
    "print(primeiras3)\n",
    "\n",
    "ultimas3 = frutas[4:]\n",
    "print(ultimas3)"
   ]
  },
  {
   "cell_type": "code",
   "execution_count": null,
   "metadata": {},
   "outputs": [],
   "source": [
    "# elementos das posições ímpares da lista começando na posição 1 e adotando salto igual a 2\n",
    "impares = frutas[1::2]\n",
    "print(impares)\n",
    "\n",
    "# Com saltos negativos, é fácil inverter uma lista:\n",
    "frutas_inv = frutas[-1::-1]\n",
    "print(frutas_inv)"
   ]
  },
  {
   "cell_type": "code",
   "execution_count": null,
   "metadata": {},
   "outputs": [],
   "source": [
    "# Slicing de listas\n",
    "comidas = ('pizza', 'hamburguer', 'coxinha', 'feijoada', 'bife com batata frita')\n",
    "precos  = ('50', '30', '6', '20', '18')\n",
    "\n",
    "# Sem o primeiro e o último item da lista\n",
    "for comida, preco in zip(comidas[1:-1], precos[1:-1]):\n",
    "    print(f'Comida: {comida}\\nPreço: {preco}')\n",
    "    print('------------------')"
   ]
  },
  {
   "cell_type": "code",
   "execution_count": null,
   "metadata": {},
   "outputs": [],
   "source": [
    "# Ordenação de Listas\n",
    "comidas = ('pizza', 'hamburguer', 'coxinha', 'feijoada', 'bife com batata frita')\n",
    "precos  = ('50', '30', '6', '20', '18')\n",
    "\n",
    "#Exibindo a lista de trás para frente\n",
    "for comida, preco in zip(comidas[::-1], precos[::-1]):\n",
    "    print(f'Comida: {comida}\\nPreço: R${preco}')\n",
    "    print('------------------')\n",
    "\n",
    "#Exibindo todos os itens das listas alinhados\n",
    "print(list(zip(comidas, precos)))"
   ]
  },
  {
   "cell_type": "markdown",
   "metadata": {},
   "source": [
    "---\n",
    "### **Tuplas**\n",
    "**- Operações Básicas**"
   ]
  },
  {
   "cell_type": "code",
   "execution_count": null,
   "metadata": {},
   "outputs": [],
   "source": [
    "tupla1 = tuple() # tupla vazia\n",
    "\n",
    "tupla2 = () # tupla vazia\n",
    "\n",
    "linguagens = ('Python', 'JavaScript', 'SQL')\n",
    "\n",
    "dados_variados = 3.14, 1000, True, 'abacate'\n",
    "\n",
    "tupla_de_tuplas = ( ('Curso', 'Módulo 1', 'Módulo 2'), ('Data Science', 'Lógica de Programação I', 'Lógica de Programação II'), ('Web Full Stack', 'Front End Estático', 'Front End Dinâmico'))\n",
    "\n",
    "print(linguagens[0]) # imprime \"Python\"\n",
    "print(linguagens[1]) # imprime \"JavaScript\"\n",
    "print(dados_variados[2]) # imprime True\n",
    "print(tupla_de_tuplas[2][0]) # imprime \"Web Full Stack\""
   ]
  },
  {
   "cell_type": "markdown",
   "metadata": {},
   "source": [
    "**Conversão de lista para tupla e vice-versa:**"
   ]
  },
  {
   "cell_type": "code",
   "execution_count": null,
   "metadata": {},
   "outputs": [],
   "source": [
    "lista_frutas = ['abacate', 'banana', 'carambola', 'damasco', 'embaúba', 'framboesa', 'goiaba']\n",
    "\n",
    "tupla_frutas = tuple(lista_frutas)\n",
    "print(f'Tupla:\\n{tupla_frutas}\\nTipo da variável: {type(tupla_frutas)}\\n\\n')\n",
    "\n",
    "nova_lista_frutas = list(tupla_frutas)\n",
    "print(f'Lista:\\n{nova_lista_frutas}\\nTipo da variável: {type(nova_lista_frutas)}')"
   ]
  },
  {
   "cell_type": "markdown",
   "metadata": {},
   "source": [
    "---\n",
    "### **Imutabilidade**\n",
    "Principal característica de uma tupla."
   ]
  },
  {
   "cell_type": "code",
   "execution_count": null,
   "metadata": {},
   "outputs": [],
   "source": [
    "lista_frutas = ['abacate', 'banana', 'carambola', 'damasco', 'embaúba', 'framboesa', 'goiaba']\n",
    "tupla_frutas = ('abacate', 'banana', 'carambola', 'damasco', 'embaúba', 'framboesa', 'goiaba')\n",
    "\n",
    "lista_frutas[0] = 'ananás'\n",
    "print(lista_frutas)\n",
    "\n",
    "tupla_frutas[0] = 'ananás' # erro"
   ]
  },
  {
   "cell_type": "code",
   "execution_count": null,
   "metadata": {},
   "outputs": [],
   "source": [
    "# Desempacotamento de tupla\n",
    "\n",
    "x, y, z = ('Lista', 'Tupla', 'Dicionário')\n",
    "print(x) # Lista\n",
    "print(y) # Tupla\n",
    "print(z) # Dicionário"
   ]
  },
  {
   "cell_type": "code",
   "execution_count": null,
   "metadata": {},
   "outputs": [],
   "source": [
    "# Desempacotamento de tupla com *\n",
    "\n",
    "linguagens = ('Python', 'JavaScript', 'HTML', 'CSS', 'R')\n",
    "\n",
    "primeira, *resto = linguagens\n",
    "print(primeira) # Python\n",
    "print(resto) # ['JavaScript', 'HTML', 'CSS', 'R']\n",
    "\n",
    "*resto, ultima = linguagens\n",
    "print(resto) # ['Python', 'JavaScript', 'HTML', 'CSS']\n",
    "print(ultima) # R\n",
    "\n",
    "primeira, *meio, ultima = linguagens\n",
    "print(primeira) # Python\n",
    "print(meio) # ['JavaScript', 'HTML', 'CSS']\n",
    "print(ultima) # R"
   ]
  },
  {
   "cell_type": "code",
   "execution_count": 11,
   "metadata": {},
   "outputs": [
    {
     "name": "stdout",
     "output_type": "stream",
     "text": [
      "Iteração em uma lista usando um loop for\n",
      "1\n",
      "2\n",
      "3\n",
      "4\n",
      "5\n",
      "Iteração em uma tupla usando um loop for\n",
      "10\n",
      "20\n",
      "30\n",
      "40\n",
      "50\n"
     ]
    }
   ],
   "source": [
    "# Iteração com lista e tupla\n",
    "\n",
    "minha_lista = [1, 2, 3, 4, 5]\n",
    "\n",
    "print('Iteração em uma lista usando um loop for')\n",
    "for elemento in minha_lista:\n",
    "    print(elemento)\n",
    "\n",
    "\n",
    "minha_tupla = (10, 20, 30, 40, 50)\n",
    "\n",
    "print('Iteração em uma tupla usando um loop for')\n",
    "for elemento in minha_tupla:\n",
    "    print(elemento)"
   ]
  },
  {
   "cell_type": "markdown",
   "metadata": {},
   "source": [
    "Considere um problema qualquer onde o índice importa. Por exemplo, suponha que você possua uma lista de strings e gostaria de exibi-la intercalando uma em letra maiúscula e outra em letra minúscula (assim como frequentemente representamos tabelas intercalando as cores de suas linhas em editores de planilha para melhorar a legibilidade).\n",
    "\n",
    "A lógica desse problema poderia ser resolvida usando índice:"
   ]
  },
  {
   "cell_type": "code",
   "execution_count": 12,
   "metadata": {},
   "outputs": [
    {
     "name": "stdout",
     "output_type": "stream",
     "text": [
      "ABACATE\n",
      "banana\n",
      "CARAMBOLA\n",
      "damasco\n",
      "EMBAÚBA\n",
      "framboesa\n",
      "GOIABA\n"
     ]
    }
   ],
   "source": [
    "lista_frutas = ['abacate', 'banana', 'carambola', 'damasco', 'embaúba', 'framboesa', 'goiaba']\n",
    "\n",
    "for indice in range(len(lista_frutas)):\n",
    "    if indice % 2 == 0:\n",
    "        print(lista_frutas[indice].upper())\n",
    "    else:\n",
    "        print(lista_frutas[indice].lower())"
   ]
  },
  {
   "cell_type": "markdown",
   "metadata": {},
   "source": [
    "**Enumarate**"
   ]
  },
  {
   "cell_type": "code",
   "execution_count": 13,
   "metadata": {},
   "outputs": [
    {
     "name": "stdout",
     "output_type": "stream",
     "text": [
      "(0, 'abacate')\n",
      "(1, 'banana')\n",
      "(2, 'carambola')\n",
      "(3, 'damasco')\n",
      "(4, 'embaúba')\n",
      "(5, 'framboesa')\n",
      "(6, 'goiaba')\n"
     ]
    }
   ],
   "source": [
    "for x in enumerate(lista_frutas):\n",
    "    print(x)"
   ]
  },
  {
   "cell_type": "code",
   "execution_count": 14,
   "metadata": {},
   "outputs": [
    {
     "name": "stdout",
     "output_type": "stream",
     "text": [
      "ABACATE\n",
      "banana\n",
      "CARAMBOLA\n",
      "damasco\n",
      "EMBAÚBA\n",
      "framboesa\n",
      "GOIABA\n"
     ]
    }
   ],
   "source": [
    "for indice, valor in enumerate(lista_frutas):\n",
    "    if indice % 2 == 0:\n",
    "        print(valor.upper())\n",
    "    else:\n",
    "        print(valor.lower())"
   ]
  },
  {
   "cell_type": "markdown",
   "metadata": {},
   "source": [
    "**Zip**"
   ]
  },
  {
   "cell_type": "code",
   "execution_count": 28,
   "metadata": {},
   "outputs": [
    {
     "name": "stdout",
     "output_type": "stream",
     "text": [
      "('Paul', 10)\n",
      "('John', 9.5)\n",
      "('George', 7)\n",
      "('Ringo', 6)\n"
     ]
    }
   ],
   "source": [
    "alunos = ['Paul', 'John', 'George', 'Ringo']\n",
    "notas = [10, 9.5, 7, 6]\n",
    "\n",
    "for x in zip(alunos, notas):\n",
    "    print(x)"
   ]
  }
 ],
 "metadata": {
  "kernelspec": {
   "display_name": "Python 3",
   "language": "python",
   "name": "python3"
  },
  "language_info": {
   "codemirror_mode": {
    "name": "ipython",
    "version": 3
   },
   "file_extension": ".py",
   "mimetype": "text/x-python",
   "name": "python",
   "nbconvert_exporter": "python",
   "pygments_lexer": "ipython3",
   "version": "3.11.6"
  },
  "orig_nbformat": 4
 },
 "nbformat": 4,
 "nbformat_minor": 2
}
